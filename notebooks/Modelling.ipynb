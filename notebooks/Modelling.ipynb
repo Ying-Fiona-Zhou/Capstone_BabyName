{
 "cells": [
  {
   "cell_type": "markdown",
   "metadata": {},
   "source": [
    "# Analyses of Baby Name Popularity Distribution in U.S. for the Last 143 Years"
   ]
  },
  {
   "cell_type": "code",
   "execution_count": 48,
   "metadata": {},
   "outputs": [],
   "source": [
    "import numpy as np\n",
    "import pandas as pd\n",
    "\n",
    "# plotting\n",
    "import plotly.express as px\n",
    "from plotly.subplots import make_subplots\n",
    "import plotly.graph_objs as go\n",
    "import matplotlib.pyplot as plt\n",
    "\n",
    "# stats\n",
    "from statsmodels.api import tsa # time series analysis\n",
    "import statsmodels.api as sm\n",
    "from statsmodels.tsa.statespace.sarimax import SARIMAX\n",
    "\n",
    "\n",
    "from prophet import Prophet"
   ]
  },
  {
   "cell_type": "code",
   "execution_count": 53,
   "metadata": {},
   "outputs": [
    {
     "name": "stdout",
     "output_type": "stream",
     "text": [
      "   Unnamed: 0     Name  Year Gender  Count  Name_Ratio  Gender_Name_Ratio\n",
      "0           0    Emily  2000      F  25959    6.867840          14.295257\n",
      "1           1   Hannah  2000      F  23086    6.107745          12.713136\n",
      "2           2  Madison  2000      F  19968    5.282832          10.996097\n",
      "3           3   Ashley  2000      F  17998    4.761639           9.911246\n",
      "4           4    Sarah  2000      F  17713    4.686238           9.754300\n"
     ]
    }
   ],
   "source": [
    "file_path = '/Users/yingzhou/Downloads/Capstone_Babyname/Notebook_data/data.csv'\n",
    "\n",
    "# Read the CSV file into a DataFrame\n",
    "data = pd.read_csv(file_path)\n",
    "\n",
    "# Display the first few rows to verify\n",
    "print(data.head())"
   ]
  },
  {
   "cell_type": "code",
   "execution_count": 54,
   "metadata": {},
   "outputs": [
    {
     "name": "stdout",
     "output_type": "stream",
     "text": [
      "   Unnamed: 0  Rank      Name  Number Gender  Year\n",
      "0           0     1    OLIVER     555   Male  2023\n",
      "1           1     2      NOAH     537   Male  2023\n",
      "2           2     3       LEO     409   Male  2023\n",
      "3           3     4     HENRY     404   Male  2023\n",
      "4           4     5  THEODORE     400   Male  2023\n"
     ]
    }
   ],
   "source": [
    "file_path = '/Users/yingzhou/Downloads/Capstone_Babyname/Notebook_data/dataset3.csv'\n",
    "\n",
    "# Read the CSV file into a DataFrame\n",
    "df = pd.read_csv(file_path)\n",
    "\n",
    "# Display the first few rows to verify\n",
    "print(df.head())\n"
   ]
  },
  {
   "cell_type": "code",
   "execution_count": 55,
   "metadata": {},
   "outputs": [
    {
     "name": "stdout",
     "output_type": "stream",
     "text": [
      "Top 100 Male Names for 2023:\n",
      "    Unnamed: 0  Rank      Name  Number Gender  Year\n",
      "0            0     1    OLIVER     555   Male  2023\n",
      "1            1     2      NOAH     537   Male  2023\n",
      "2            2     3       LEO     409   Male  2023\n",
      "3            3     4     HENRY     404   Male  2023\n",
      "4            4     5  THEODORE     400   Male  2023\n",
      "..         ...   ...       ...     ...    ...   ...\n",
      "95          95    93    JOSHUA      89   Male  2023\n",
      "96          96    97      ZAYN      88   Male  2023\n",
      "97          97    97    MARCUS      88   Male  2023\n",
      "98          98    97     ASHER      88   Male  2023\n",
      "99          99   100       ALI      87   Male  2023\n",
      "\n",
      "[100 rows x 6 columns]\n",
      "\n",
      "Top 100 Female Names for 2023:\n",
      "     Unnamed: 0  Rank       Name  Number  Gender  Year\n",
      "100         100     1       ISLA     403  Female  2023\n",
      "101         101     2     AMELIA     399  Female  2023\n",
      "102         102     3     OLIVIA     381  Female  2023\n",
      "103         103     4        MIA     347  Female  2023\n",
      "104         104     5  CHARLOTTE     338  Female  2023\n",
      "..          ...   ...        ...     ...     ...   ...\n",
      "195         195    96      BELLA      72  Female  2023\n",
      "196         196    97  VALENTINA      71  Female  2023\n",
      "197         197    97      ZAHRA      71  Female  2023\n",
      "198         198    97    ADDISON      71  Female  2023\n",
      "199         199    97    ADELINE      71  Female  2023\n",
      "\n",
      "[100 rows x 6 columns]\n"
     ]
    }
   ],
   "source": [
    "# Prove the prediction\n",
    "# Filter for the year 2023\n",
    "years_of_interest = [2023]\n",
    "rank_filtered = df[df['Year'].isin(years_of_interest)]\n",
    "\n",
    "# Top 100 male names for 2023\n",
    "top_100_male_2023 = rank_filtered[(rank_filtered['Year'] == 2023) & (rank_filtered['Gender'] == 'Male')].head(100)\n",
    "\n",
    "# Top 100 female names for 2023\n",
    "top_100_female_2023 = rank_filtered[(rank_filtered['Year'] == 2023) & (rank_filtered['Gender'] == 'Female')].head(100)\n",
    "\n",
    "# Display the results\n",
    "print(\"Top 100 Male Names for 2023:\")\n",
    "print(top_100_male_2023)\n",
    "\n",
    "print(\"\\nTop 100 Female Names for 2023:\")\n",
    "print(top_100_female_2023)\n"
   ]
  },
  {
   "cell_type": "markdown",
   "metadata": {},
   "source": [
    "### Year of Last Appearance"
   ]
  },
  {
   "cell_type": "code",
   "execution_count": 100,
   "metadata": {},
   "outputs": [
    {
     "name": "stdout",
     "output_type": "stream",
     "text": [
      "   Unnamed: 0     Name  Year Gender  Count  Name_Ratio  Gender_Name_Ratio  \\\n",
      "0           0    Emily  2000      F  25959    6.867840          14.295257   \n",
      "1           1   Hannah  2000      F  23086    6.107745          12.713136   \n",
      "2           2  Madison  2000      F  19968    5.282832          10.996097   \n",
      "3           3   Ashley  2000      F  17998    4.761639           9.911246   \n",
      "4           4    Sarah  2000      F  17713    4.686238           9.754300   \n",
      "\n",
      "   Year_of_Last_Appearance  \n",
      "0                     2023  \n",
      "1                     2023  \n",
      "2                     2023  \n",
      "3                     2023  \n",
      "4                     2023  \n"
     ]
    }
   ],
   "source": [
    "# Calculate the Year of Last Appearance\n",
    "# Group by 'Name' and find the max 'Year' for each name\n",
    "last_appearance = data.groupby('Name')['Year'].max().reset_index()\n",
    "\n",
    "# Rename the column to 'Year_of_Last_Appearance'\n",
    "last_appearance = last_appearance.rename(columns={'Year': 'Year_of_Last_Appearance'})\n",
    "\n",
    "# Merge this information back into the original dataframe\n",
    "data1 = data.merge(last_appearance, on='Name', how='left')\n",
    "\n",
    "# Display the updated dataframe\n",
    "print(data1.head())"
   ]
  },
  {
   "cell_type": "markdown",
   "metadata": {},
   "source": [
    "### Rolling Averages"
   ]
  },
  {
   "cell_type": "code",
   "execution_count": 103,
   "metadata": {},
   "outputs": [
    {
     "name": "stdout",
     "output_type": "stream",
     "text": [
      "         Unnamed: 0   Name  Year Gender  Count  Name_Ratio  Gender_Name_Ratio  \\\n",
      "448361       448361  Aaban  2007      M      5    0.001251           0.002410   \n",
      "1658557     1658557  Aaban  2009      M      6    0.001571           0.003026   \n",
      "622389       622389  Aaban  2010      M      9    0.002436           0.004692   \n",
      "542878       542878  Aaban  2011      M     11    0.003008           0.005794   \n",
      "342512       342512  Aaban  2012      M     11    0.003008           0.005801   \n",
      "475583       475583  Aaban  2013      M     14    0.003841           0.007404   \n",
      "54484         54484  Aaban  2014      M     16    0.004318           0.008334   \n",
      "122608       122608  Aaban  2015      M     15    0.004054           0.007830   \n",
      "309877       309877  Aaban  2016      M      9    0.002454           0.004745   \n",
      "186730       186730  Aaban  2017      M     11    0.003077           0.005947   \n",
      "\n",
      "         Year_of_Last_Appearance  Rolling_Average_Count_5_Years  \\\n",
      "448361                      2022                          10.20   \n",
      "1658557                     2022                           9.00   \n",
      "622389                      2022                          10.00   \n",
      "542878                      2022                          10.00   \n",
      "342512                      2022                          12.40   \n",
      "475583                      2022                          10.00   \n",
      "54484                       2022                          16.00   \n",
      "122608                      2022                          15.50   \n",
      "309877                      2022                          12.75   \n",
      "186730                      2022                          14.00   \n",
      "\n",
      "         Rolling_Average_Gender_Ratio_5_Years  \\\n",
      "448361                               0.005347   \n",
      "1658557                              0.004665   \n",
      "622389                               0.005220   \n",
      "542878                               0.005231   \n",
      "342512                               0.006531   \n",
      "475583                               0.005261   \n",
      "54484                                0.008334   \n",
      "122608                               0.008082   \n",
      "309877                               0.006714   \n",
      "186730                               0.007370   \n",
      "\n",
      "         Rolling_Average_National_Ratio_5_Years  \n",
      "448361                                 0.002769  \n",
      "1658557                                0.002421  \n",
      "622389                                 0.002709  \n",
      "542878                                 0.002712  \n",
      "342512                                 0.003382  \n",
      "475583                                 0.002726  \n",
      "54484                                  0.004318  \n",
      "122608                                 0.004186  \n",
      "309877                                 0.003476  \n",
      "186730                                 0.003816  \n"
     ]
    }
   ],
   "source": [
    "# Calculate a 5-year rolling average for the 'Count' column\n",
    "data1['Rolling_Average_Count_5_Years'] = data1.groupby('Name')['Count'].rolling(window=5, min_periods=1).mean().reset_index(level=0, drop=True)\n",
    "\n",
    "# Calculate a 5-year rolling average for the 'Gender_Ratio' column\n",
    "data1['Rolling_Average_Gender_Ratio_5_Years'] = data1.groupby('Name')['Gender_Name_Ratio'].rolling(window=5, min_periods=1).mean().reset_index(level=0, drop=True)\n",
    "\n",
    "# Calculate a 5-year rolling average for the National Ratio\n",
    "data1['Rolling_Average_National_Ratio_5_Years'] = data1.groupby('Name')['Name_Ratio'].rolling(window=5, min_periods=1).mean().reset_index(level=0, drop=True)\n",
    "\n",
    "data2 = data1.sort_values(by=['Name', 'Year'])\n",
    "\n",
    "# Display the updated dataframe with both rolling averages\n",
    "print(data2.head(10))"
   ]
  },
  {
   "cell_type": "markdown",
   "metadata": {},
   "source": [
    "### Name length"
   ]
  },
  {
   "cell_type": "code",
   "execution_count": 104,
   "metadata": {},
   "outputs": [
    {
     "name": "stdout",
     "output_type": "stream",
     "text": [
      "         Unnamed: 0   Name  Year Gender  Count  Name_Ratio  Gender_Name_Ratio  \\\n",
      "448361       448361  Aaban  2007      M      5    0.001251           0.002410   \n",
      "1658557     1658557  Aaban  2009      M      6    0.001571           0.003026   \n",
      "622389       622389  Aaban  2010      M      9    0.002436           0.004692   \n",
      "542878       542878  Aaban  2011      M     11    0.003008           0.005794   \n",
      "342512       342512  Aaban  2012      M     11    0.003008           0.005801   \n",
      "475583       475583  Aaban  2013      M     14    0.003841           0.007404   \n",
      "54484         54484  Aaban  2014      M     16    0.004318           0.008334   \n",
      "122608       122608  Aaban  2015      M     15    0.004054           0.007830   \n",
      "309877       309877  Aaban  2016      M      9    0.002454           0.004745   \n",
      "186730       186730  Aaban  2017      M     11    0.003077           0.005947   \n",
      "\n",
      "         Year_of_Last_Appearance  Rolling_Average_Count_5_Years  \\\n",
      "448361                      2022                          10.20   \n",
      "1658557                     2022                           9.00   \n",
      "622389                      2022                          10.00   \n",
      "542878                      2022                          10.00   \n",
      "342512                      2022                          12.40   \n",
      "475583                      2022                          10.00   \n",
      "54484                       2022                          16.00   \n",
      "122608                      2022                          15.50   \n",
      "309877                      2022                          12.75   \n",
      "186730                      2022                          14.00   \n",
      "\n",
      "         Rolling_Average_Gender_Ratio_5_Years  \\\n",
      "448361                               0.005347   \n",
      "1658557                              0.004665   \n",
      "622389                               0.005220   \n",
      "542878                               0.005231   \n",
      "342512                               0.006531   \n",
      "475583                               0.005261   \n",
      "54484                                0.008334   \n",
      "122608                               0.008082   \n",
      "309877                               0.006714   \n",
      "186730                               0.007370   \n",
      "\n",
      "         Rolling_Average_National_Ratio_5_Years  Name_Length  \n",
      "448361                                 0.002769            5  \n",
      "1658557                                0.002421            5  \n",
      "622389                                 0.002709            5  \n",
      "542878                                 0.002712            5  \n",
      "342512                                 0.003382            5  \n",
      "475583                                 0.002726            5  \n",
      "54484                                  0.004318            5  \n",
      "122608                                 0.004186            5  \n",
      "309877                                 0.003476            5  \n",
      "186730                                 0.003816            5  \n"
     ]
    }
   ],
   "source": [
    "# Calculate the length of each name\n",
    "data2['Name_Length'] = data2['Name'].apply(len)\n",
    "print(data2.head(10))"
   ]
  },
  {
   "cell_type": "code",
   "execution_count": null,
   "metadata": {},
   "outputs": [],
   "source": []
  },
  {
   "cell_type": "code",
   "execution_count": 105,
   "metadata": {},
   "outputs": [
    {
     "name": "stdout",
     "output_type": "stream",
     "text": [
      "         Unnamed: 0   Name  Year Gender  Count  Name_Ratio  Gender_Name_Ratio  \\\n",
      "448361       448361  Aaban  2007      M      5    0.001251           0.002410   \n",
      "1658557     1658557  Aaban  2009      M      6    0.001571           0.003026   \n",
      "622389       622389  Aaban  2010      M      9    0.002436           0.004692   \n",
      "542878       542878  Aaban  2011      M     11    0.003008           0.005794   \n",
      "342512       342512  Aaban  2012      M     11    0.003008           0.005801   \n",
      "475583       475583  Aaban  2013      M     14    0.003841           0.007404   \n",
      "54484         54484  Aaban  2014      M     16    0.004318           0.008334   \n",
      "122608       122608  Aaban  2015      M     15    0.004054           0.007830   \n",
      "309877       309877  Aaban  2016      M      9    0.002454           0.004745   \n",
      "186730       186730  Aaban  2017      M     11    0.003077           0.005947   \n",
      "\n",
      "         Year_of_Last_Appearance  Rolling_Average_Count_5_Years  \\\n",
      "448361                      2022                          10.20   \n",
      "1658557                     2022                           9.00   \n",
      "622389                      2022                          10.00   \n",
      "542878                      2022                          10.00   \n",
      "342512                      2022                          12.40   \n",
      "475583                      2022                          10.00   \n",
      "54484                       2022                          16.00   \n",
      "122608                      2022                          15.50   \n",
      "309877                      2022                          12.75   \n",
      "186730                      2022                          14.00   \n",
      "\n",
      "         Rolling_Average_Gender_Ratio_5_Years  \\\n",
      "448361                               0.005347   \n",
      "1658557                              0.004665   \n",
      "622389                               0.005220   \n",
      "542878                               0.005231   \n",
      "342512                               0.006531   \n",
      "475583                               0.005261   \n",
      "54484                                0.008334   \n",
      "122608                               0.008082   \n",
      "309877                               0.006714   \n",
      "186730                               0.007370   \n",
      "\n",
      "         Rolling_Average_National_Ratio_5_Years  Name_Length  Vowel_Count  \\\n",
      "448361                                 0.002769            5            3   \n",
      "1658557                                0.002421            5            3   \n",
      "622389                                 0.002709            5            3   \n",
      "542878                                 0.002712            5            3   \n",
      "342512                                 0.003382            5            3   \n",
      "475583                                 0.002726            5            3   \n",
      "54484                                  0.004318            5            3   \n",
      "122608                                 0.004186            5            3   \n",
      "309877                                 0.003476            5            3   \n",
      "186730                                 0.003816            5            3   \n",
      "\n",
      "         Consonant_Count  \n",
      "448361                 2  \n",
      "1658557                2  \n",
      "622389                 2  \n",
      "542878                 2  \n",
      "342512                 2  \n",
      "475583                 2  \n",
      "54484                  2  \n",
      "122608                 2  \n",
      "309877                 2  \n",
      "186730                 2  \n"
     ]
    }
   ],
   "source": [
    "# Define a function to count vowels and consonants\n",
    "def count_vowels(name):\n",
    "    vowels = 'AEIOUaeiou'\n",
    "    return sum(1 for char in name if char in vowels)\n",
    "\n",
    "def count_consonants(name):\n",
    "    vowels = 'AEIOUaeiou'\n",
    "    return sum(1 for char in name if char.isalpha() and char not in vowels)\n",
    "\n",
    "# Calculate vowel and consonant counts\n",
    "data2['Vowel_Count'] = data2['Name'].apply(count_vowels)\n",
    "data2['Consonant_Count'] = data2['Name'].apply(count_consonants)\n",
    "\n",
    "# Display the updated dataframe\n",
    "print(data2.head(10))"
   ]
  },
  {
   "cell_type": "markdown",
   "metadata": {},
   "source": [
    "### Name Endings"
   ]
  },
  {
   "cell_type": "code",
   "execution_count": null,
   "metadata": {},
   "outputs": [],
   "source": []
  },
  {
   "cell_type": "code",
   "execution_count": null,
   "metadata": {},
   "outputs": [],
   "source": []
  },
  {
   "cell_type": "markdown",
   "metadata": {},
   "source": []
  },
  {
   "cell_type": "code",
   "execution_count": null,
   "metadata": {},
   "outputs": [],
   "source": []
  },
  {
   "cell_type": "code",
   "execution_count": null,
   "metadata": {},
   "outputs": [],
   "source": []
  },
  {
   "cell_type": "code",
   "execution_count": null,
   "metadata": {},
   "outputs": [],
   "source": []
  },
  {
   "cell_type": "code",
   "execution_count": null,
   "metadata": {},
   "outputs": [],
   "source": []
  },
  {
   "cell_type": "code",
   "execution_count": null,
   "metadata": {},
   "outputs": [],
   "source": []
  },
  {
   "cell_type": "code",
   "execution_count": null,
   "metadata": {},
   "outputs": [],
   "source": []
  },
  {
   "cell_type": "code",
   "execution_count": null,
   "metadata": {},
   "outputs": [],
   "source": []
  },
  {
   "cell_type": "code",
   "execution_count": null,
   "metadata": {},
   "outputs": [],
   "source": []
  },
  {
   "cell_type": "code",
   "execution_count": null,
   "metadata": {},
   "outputs": [],
   "source": []
  },
  {
   "cell_type": "code",
   "execution_count": null,
   "metadata": {},
   "outputs": [],
   "source": []
  }
 ],
 "metadata": {
  "kernelspec": {
   "display_name": "timeseries3",
   "language": "python",
   "name": "timeseries3"
  },
  "language_info": {
   "codemirror_mode": {
    "name": "ipython",
    "version": 3
   },
   "file_extension": ".py",
   "mimetype": "text/x-python",
   "name": "python",
   "nbconvert_exporter": "python",
   "pygments_lexer": "ipython3",
   "version": "3.12.4"
  }
 },
 "nbformat": 4,
 "nbformat_minor": 2
}

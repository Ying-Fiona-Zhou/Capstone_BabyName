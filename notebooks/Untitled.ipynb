{
 "cells": [
  {
   "cell_type": "code",
   "execution_count": 2,
   "id": "64247927",
   "metadata": {},
   "outputs": [],
   "source": [
    "import pandas as pd\n",
    "import numpy as np\n"
   ]
  },
  {
   "cell_type": "code",
   "execution_count": 12,
   "id": "0041b456",
   "metadata": {},
   "outputs": [],
   "source": [
    "data= pd.read_csv('data.csv',  index_col= 0)"
   ]
  },
  {
   "cell_type": "code",
   "execution_count": 13,
   "id": "deb0a772",
   "metadata": {},
   "outputs": [
    {
     "data": {
      "text/plain": [
       "(2117219, 6)"
      ]
     },
     "execution_count": 13,
     "metadata": {},
     "output_type": "execute_result"
    }
   ],
   "source": [
    "data.shape"
   ]
  },
  {
   "cell_type": "code",
   "execution_count": 14,
   "id": "142c1511",
   "metadata": {},
   "outputs": [
    {
     "data": {
      "text/html": [
       "<div>\n",
       "<style scoped>\n",
       "    .dataframe tbody tr th:only-of-type {\n",
       "        vertical-align: middle;\n",
       "    }\n",
       "\n",
       "    .dataframe tbody tr th {\n",
       "        vertical-align: top;\n",
       "    }\n",
       "\n",
       "    .dataframe thead th {\n",
       "        text-align: right;\n",
       "    }\n",
       "</style>\n",
       "<table border=\"1\" class=\"dataframe\">\n",
       "  <thead>\n",
       "    <tr style=\"text-align: right;\">\n",
       "      <th></th>\n",
       "      <th>Name</th>\n",
       "      <th>Year</th>\n",
       "      <th>Gender</th>\n",
       "      <th>Count</th>\n",
       "      <th>Name_Ratio</th>\n",
       "      <th>Gender_Name_Ratio</th>\n",
       "    </tr>\n",
       "  </thead>\n",
       "  <tbody>\n",
       "    <tr>\n",
       "      <th>0</th>\n",
       "      <td>Emily</td>\n",
       "      <td>2000</td>\n",
       "      <td>F</td>\n",
       "      <td>25959</td>\n",
       "      <td>6.867840</td>\n",
       "      <td>14.295257</td>\n",
       "    </tr>\n",
       "    <tr>\n",
       "      <th>1</th>\n",
       "      <td>Hannah</td>\n",
       "      <td>2000</td>\n",
       "      <td>F</td>\n",
       "      <td>23086</td>\n",
       "      <td>6.107745</td>\n",
       "      <td>12.713136</td>\n",
       "    </tr>\n",
       "    <tr>\n",
       "      <th>2</th>\n",
       "      <td>Madison</td>\n",
       "      <td>2000</td>\n",
       "      <td>F</td>\n",
       "      <td>19968</td>\n",
       "      <td>5.282832</td>\n",
       "      <td>10.996097</td>\n",
       "    </tr>\n",
       "    <tr>\n",
       "      <th>3</th>\n",
       "      <td>Ashley</td>\n",
       "      <td>2000</td>\n",
       "      <td>F</td>\n",
       "      <td>17998</td>\n",
       "      <td>4.761639</td>\n",
       "      <td>9.911246</td>\n",
       "    </tr>\n",
       "    <tr>\n",
       "      <th>4</th>\n",
       "      <td>Sarah</td>\n",
       "      <td>2000</td>\n",
       "      <td>F</td>\n",
       "      <td>17713</td>\n",
       "      <td>4.686238</td>\n",
       "      <td>9.754300</td>\n",
       "    </tr>\n",
       "  </tbody>\n",
       "</table>\n",
       "</div>"
      ],
      "text/plain": [
       "      Name  Year Gender  Count  Name_Ratio  Gender_Name_Ratio\n",
       "0    Emily  2000      F  25959    6.867840          14.295257\n",
       "1   Hannah  2000      F  23086    6.107745          12.713136\n",
       "2  Madison  2000      F  19968    5.282832          10.996097\n",
       "3   Ashley  2000      F  17998    4.761639           9.911246\n",
       "4    Sarah  2000      F  17713    4.686238           9.754300"
      ]
     },
     "execution_count": 14,
     "metadata": {},
     "output_type": "execute_result"
    }
   ],
   "source": [
    "data.head(5)"
   ]
  },
  {
   "cell_type": "code",
   "execution_count": null,
   "id": "402203c2",
   "metadata": {},
   "outputs": [],
   "source": []
  }
 ],
 "metadata": {
  "kernelspec": {
   "display_name": "Python 3 (ipykernel)",
   "language": "python",
   "name": "python3"
  },
  "language_info": {
   "codemirror_mode": {
    "name": "ipython",
    "version": 3
   },
   "file_extension": ".py",
   "mimetype": "text/x-python",
   "name": "python",
   "nbconvert_exporter": "python",
   "pygments_lexer": "ipython3",
   "version": "3.11.5"
  }
 },
 "nbformat": 4,
 "nbformat_minor": 5
}

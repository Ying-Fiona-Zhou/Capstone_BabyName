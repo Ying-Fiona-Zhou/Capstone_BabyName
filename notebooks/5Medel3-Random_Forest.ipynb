{
 "cells": [
  {
   "cell_type": "markdown",
   "id": "42323cdf",
   "metadata": {},
   "source": [
    "# Analyses of Baby Name Popularity Distribution in U.S. for the Last 144 Years"
   ]
  },
  {
   "cell_type": "code",
   "execution_count": 2,
   "id": "4bd74314",
   "metadata": {},
   "outputs": [],
   "source": [
    "import numpy as np\n",
    "import pandas as pd"
   ]
  },
  {
   "cell_type": "code",
   "execution_count": 3,
   "id": "09e54079",
   "metadata": {},
   "outputs": [
    {
     "name": "stdout",
     "output_type": "stream",
     "text": [
      "           Name  Year Gender  Count  Name_Ratio  Gender_Name_Ratio  Is_Famous  \\\n",
      "128731    Aaden  2008      M    958    0.243760           0.469689          0   \n",
      "129570    Aaden  2009      M   1268    0.331981           0.639458          0   \n",
      "114438  Aaliyah  1994      F   1451    0.390318           0.812591          0   \n",
      "115498  Aaliyah  1995      F   1256    0.342980           0.714250          0   \n",
      "116688  Aaliyah  1996      F    831    0.227856           0.474070          0   \n",
      "\n",
      "        Gender_Binary  Year_of_Last_Appearance  Is_Top_100  ...  \\\n",
      "128731              1                     2009           0  ...   \n",
      "129570              1                     2009           0  ...   \n",
      "114438              0                     2023           0  ...   \n",
      "115498              0                     2023           0  ...   \n",
      "116688              0                     2023           0  ...   \n",
      "\n",
      "        Rolling_Average_Gender_Ratio_5_Years  \\\n",
      "128731                              0.469689   \n",
      "129570                              0.554573   \n",
      "114438                              0.812591   \n",
      "115498                              0.763420   \n",
      "116688                              0.666970   \n",
      "\n",
      "        Rolling_Average_National_Ratio_5_Years  Yearly_Change_Count  \\\n",
      "128731                                0.243760                  0.0   \n",
      "129570                                0.287870                310.0   \n",
      "114438                                0.390318                  0.0   \n",
      "115498                                0.366649               -195.0   \n",
      "116688                                0.320385               -425.0   \n",
      "\n",
      "        Yearly_Change_Gender_Ratio  Yearly_Change_National_Ratio  Name_Length  \\\n",
      "128731                    0.000000                      0.000000            5   \n",
      "129570                    0.169769                      0.088221            5   \n",
      "114438                    0.000000                      0.000000            7   \n",
      "115498                   -0.098341                     -0.047338            7   \n",
      "116688                   -0.240180                     -0.115124            7   \n",
      "\n",
      "        Vowel_Count  Consonant_Count  Vowel_Ratio  Ends_With_Specified_Letters  \n",
      "128731            3                2     0.600000                            0  \n",
      "129570            3                2     0.600000                            0  \n",
      "114438            4                3     0.571429                            0  \n",
      "115498            4                3     0.571429                            0  \n",
      "116688            4                3     0.571429                            0  \n",
      "\n",
      "[5 rows x 21 columns]\n"
     ]
    }
   ],
   "source": [
    "file_path = '/Users/yingzhou/Downloads/Capstone_Babyname/notebooks/Featured_Data.csv'\n",
    "\n",
    "# Read the CSV file into a DataFrame\n",
    "data = pd.read_csv(file_path, index_col=0)\n",
    "\n",
    "# Display the first few rows to verify\n",
    "print(data.head())"
   ]
  },
  {
   "cell_type": "code",
   "execution_count": 5,
   "id": "c67cfd34",
   "metadata": {},
   "outputs": [],
   "source": [
    "import pandas as pd\n",
    "from sklearn.model_selection import train_test_split\n",
    "from sklearn.ensemble import RandomForestClassifier\n",
    "from sklearn.metrics import accuracy_score, classification_report\n",
    "\n",
    "X = data.drop(columns=['Is_Top_100'])  # Drop the target column from features\n",
    "y = data['Is_Top_100']  # Target variable\n"
   ]
  },
  {
   "cell_type": "code",
   "execution_count": 6,
   "id": "cf14f4e1",
   "metadata": {},
   "outputs": [],
   "source": [
    "# Split data into training and testing sets (80% training, 20% testing)\n",
    "X_train, X_test, y_train, y_test = train_test_split(X, y, test_size=0.2, random_state=42)\n"
   ]
  },
  {
   "cell_type": "code",
   "execution_count": 7,
   "id": "75fa37c0",
   "metadata": {},
   "outputs": [],
   "source": [
    "\n",
    "# Make sure both train and test sets have the same columns after encoding\n",
    "X_train, X_test = X_train.align(X_test, join='left', axis=1)\n",
    "X_test = X_test.fillna(0)  # Fill NaN values if align introduces any\n"
   ]
  },
  {
   "cell_type": "code",
   "execution_count": 8,
   "id": "74e5101c",
   "metadata": {},
   "outputs": [
    {
     "data": {
      "text/html": [
       "<style>#sk-container-id-1 {color: black;}#sk-container-id-1 pre{padding: 0;}#sk-container-id-1 div.sk-toggleable {background-color: white;}#sk-container-id-1 label.sk-toggleable__label {cursor: pointer;display: block;width: 100%;margin-bottom: 0;padding: 0.3em;box-sizing: border-box;text-align: center;}#sk-container-id-1 label.sk-toggleable__label-arrow:before {content: \"▸\";float: left;margin-right: 0.25em;color: #696969;}#sk-container-id-1 label.sk-toggleable__label-arrow:hover:before {color: black;}#sk-container-id-1 div.sk-estimator:hover label.sk-toggleable__label-arrow:before {color: black;}#sk-container-id-1 div.sk-toggleable__content {max-height: 0;max-width: 0;overflow: hidden;text-align: left;background-color: #f0f8ff;}#sk-container-id-1 div.sk-toggleable__content pre {margin: 0.2em;color: black;border-radius: 0.25em;background-color: #f0f8ff;}#sk-container-id-1 input.sk-toggleable__control:checked~div.sk-toggleable__content {max-height: 200px;max-width: 100%;overflow: auto;}#sk-container-id-1 input.sk-toggleable__control:checked~label.sk-toggleable__label-arrow:before {content: \"▾\";}#sk-container-id-1 div.sk-estimator input.sk-toggleable__control:checked~label.sk-toggleable__label {background-color: #d4ebff;}#sk-container-id-1 div.sk-label input.sk-toggleable__control:checked~label.sk-toggleable__label {background-color: #d4ebff;}#sk-container-id-1 input.sk-hidden--visually {border: 0;clip: rect(1px 1px 1px 1px);clip: rect(1px, 1px, 1px, 1px);height: 1px;margin: -1px;overflow: hidden;padding: 0;position: absolute;width: 1px;}#sk-container-id-1 div.sk-estimator {font-family: monospace;background-color: #f0f8ff;border: 1px dotted black;border-radius: 0.25em;box-sizing: border-box;margin-bottom: 0.5em;}#sk-container-id-1 div.sk-estimator:hover {background-color: #d4ebff;}#sk-container-id-1 div.sk-parallel-item::after {content: \"\";width: 100%;border-bottom: 1px solid gray;flex-grow: 1;}#sk-container-id-1 div.sk-label:hover label.sk-toggleable__label {background-color: #d4ebff;}#sk-container-id-1 div.sk-serial::before {content: \"\";position: absolute;border-left: 1px solid gray;box-sizing: border-box;top: 0;bottom: 0;left: 50%;z-index: 0;}#sk-container-id-1 div.sk-serial {display: flex;flex-direction: column;align-items: center;background-color: white;padding-right: 0.2em;padding-left: 0.2em;position: relative;}#sk-container-id-1 div.sk-item {position: relative;z-index: 1;}#sk-container-id-1 div.sk-parallel {display: flex;align-items: stretch;justify-content: center;background-color: white;position: relative;}#sk-container-id-1 div.sk-item::before, #sk-container-id-1 div.sk-parallel-item::before {content: \"\";position: absolute;border-left: 1px solid gray;box-sizing: border-box;top: 0;bottom: 0;left: 50%;z-index: -1;}#sk-container-id-1 div.sk-parallel-item {display: flex;flex-direction: column;z-index: 1;position: relative;background-color: white;}#sk-container-id-1 div.sk-parallel-item:first-child::after {align-self: flex-end;width: 50%;}#sk-container-id-1 div.sk-parallel-item:last-child::after {align-self: flex-start;width: 50%;}#sk-container-id-1 div.sk-parallel-item:only-child::after {width: 0;}#sk-container-id-1 div.sk-dashed-wrapped {border: 1px dashed gray;margin: 0 0.4em 0.5em 0.4em;box-sizing: border-box;padding-bottom: 0.4em;background-color: white;}#sk-container-id-1 div.sk-label label {font-family: monospace;font-weight: bold;display: inline-block;line-height: 1.2em;}#sk-container-id-1 div.sk-label-container {text-align: center;}#sk-container-id-1 div.sk-container {/* jupyter's `normalize.less` sets `[hidden] { display: none; }` but bootstrap.min.css set `[hidden] { display: none !important; }` so we also need the `!important` here to be able to override the default hidden behavior on the sphinx rendered scikit-learn.org. See: https://github.com/scikit-learn/scikit-learn/issues/21755 */display: inline-block !important;position: relative;}#sk-container-id-1 div.sk-text-repr-fallback {display: none;}</style><div id=\"sk-container-id-1\" class=\"sk-top-container\"><div class=\"sk-text-repr-fallback\"><pre>RandomForestClassifier(random_state=42)</pre><b>In a Jupyter environment, please rerun this cell to show the HTML representation or trust the notebook. <br />On GitHub, the HTML representation is unable to render, please try loading this page with nbviewer.org.</b></div><div class=\"sk-container\" hidden><div class=\"sk-item\"><div class=\"sk-estimator sk-toggleable\"><input class=\"sk-toggleable__control sk-hidden--visually\" id=\"sk-estimator-id-1\" type=\"checkbox\" checked><label for=\"sk-estimator-id-1\" class=\"sk-toggleable__label sk-toggleable__label-arrow\">RandomForestClassifier</label><div class=\"sk-toggleable__content\"><pre>RandomForestClassifier(random_state=42)</pre></div></div></div></div></div>"
      ],
      "text/plain": [
       "RandomForestClassifier(random_state=42)"
      ]
     },
     "execution_count": 8,
     "metadata": {},
     "output_type": "execute_result"
    }
   ],
   "source": [
    "# Initialize the RandomForestClassifier\n",
    "rf_model = RandomForestClassifier(n_estimators=100, random_state=42)\n",
    "\n",
    "# Train the model\n",
    "rf_model.fit(X_train, y_train)\n"
   ]
  },
  {
   "cell_type": "code",
   "execution_count": 9,
   "id": "522d87f7",
   "metadata": {},
   "outputs": [],
   "source": [
    "# Make predictions on the test set\n",
    "y_pred = rf_model.predict(X_test)\n"
   ]
  },
  {
   "cell_type": "code",
   "execution_count": 10,
   "id": "347b9dbe",
   "metadata": {},
   "outputs": [
    {
     "name": "stdout",
     "output_type": "stream",
     "text": [
      "Accuracy: 1.00\n",
      "              precision    recall  f1-score   support\n",
      "\n",
      "           0       1.00      1.00      1.00     25686\n",
      "           1       0.98      0.98      0.98      3123\n",
      "\n",
      "    accuracy                           1.00     28809\n",
      "   macro avg       0.99      0.99      0.99     28809\n",
      "weighted avg       1.00      1.00      1.00     28809\n",
      "\n"
     ]
    }
   ],
   "source": [
    "# Evaluate the model\n",
    "accuracy = accuracy_score(y_test, y_pred)\n",
    "print(f\"Accuracy: {accuracy:.2f}\")\n",
    "\n",
    "# Print classification report for more detailed metrics\n",
    "print(classification_report(y_test, y_pred))\n"
   ]
  },
  {
   "cell_type": "code",
   "execution_count": 11,
   "id": "dccc95e7",
   "metadata": {},
   "outputs": [
    {
     "name": "stdout",
     "output_type": "stream",
     "text": [
      "                                     feature  importance\n",
      "3                          Gender_Name_Ratio    0.185472\n",
      "9     Rolling_Average_National_Ratio_5_Years    0.179726\n",
      "2                                 Name_Ratio    0.155933\n",
      "8       Rolling_Average_Gender_Ratio_5_Years    0.116324\n",
      "1                                      Count    0.088664\n",
      "...                                      ...         ...\n",
      "1860                              Name_Kenya    0.000000\n",
      "1856                            Name_Kennith    0.000000\n",
      "1852                             Name_Kenley    0.000000\n",
      "1848                             Name_Kendal    0.000000\n",
      "1708                              Name_Juana    0.000000\n",
      "\n",
      "[3416 rows x 2 columns]\n"
     ]
    }
   ],
   "source": [
    "# Get feature importances\n",
    "importances = rf_model.feature_importances_\n",
    "\n",
    "# Display feature importances\n",
    "feature_importances = pd.DataFrame({\n",
    "    'feature': X_train.columns,\n",
    "    'importance': importances\n",
    "}).sort_values(by='importance', ascending=False)\n",
    "\n",
    "print(feature_importances)\n"
   ]
  },
  {
   "cell_type": "code",
   "execution_count": 14,
   "id": "e23e9202",
   "metadata": {},
   "outputs": [
    {
     "data": {
      "text/html": [
       "<div>\n",
       "<style scoped>\n",
       "    .dataframe tbody tr th:only-of-type {\n",
       "        vertical-align: middle;\n",
       "    }\n",
       "\n",
       "    .dataframe tbody tr th {\n",
       "        vertical-align: top;\n",
       "    }\n",
       "\n",
       "    .dataframe thead th {\n",
       "        text-align: right;\n",
       "    }\n",
       "</style>\n",
       "<table border=\"1\" class=\"dataframe\">\n",
       "  <thead>\n",
       "    <tr style=\"text-align: right;\">\n",
       "      <th></th>\n",
       "      <th>feature</th>\n",
       "      <th>importance</th>\n",
       "    </tr>\n",
       "  </thead>\n",
       "  <tbody>\n",
       "    <tr>\n",
       "      <th>3</th>\n",
       "      <td>Gender_Name_Ratio</td>\n",
       "      <td>0.185472</td>\n",
       "    </tr>\n",
       "    <tr>\n",
       "      <th>9</th>\n",
       "      <td>Rolling_Average_National_Ratio_5_Years</td>\n",
       "      <td>0.179726</td>\n",
       "    </tr>\n",
       "    <tr>\n",
       "      <th>2</th>\n",
       "      <td>Name_Ratio</td>\n",
       "      <td>0.155933</td>\n",
       "    </tr>\n",
       "    <tr>\n",
       "      <th>8</th>\n",
       "      <td>Rolling_Average_Gender_Ratio_5_Years</td>\n",
       "      <td>0.116324</td>\n",
       "    </tr>\n",
       "    <tr>\n",
       "      <th>1</th>\n",
       "      <td>Count</td>\n",
       "      <td>0.088664</td>\n",
       "    </tr>\n",
       "    <tr>\n",
       "      <th>7</th>\n",
       "      <td>Rolling_Average_Count_5_Years</td>\n",
       "      <td>0.070163</td>\n",
       "    </tr>\n",
       "    <tr>\n",
       "      <th>12</th>\n",
       "      <td>Yearly_Change_National_Ratio</td>\n",
       "      <td>0.045798</td>\n",
       "    </tr>\n",
       "    <tr>\n",
       "      <th>11</th>\n",
       "      <td>Yearly_Change_Gender_Ratio</td>\n",
       "      <td>0.037050</td>\n",
       "    </tr>\n",
       "    <tr>\n",
       "      <th>10</th>\n",
       "      <td>Yearly_Change_Count</td>\n",
       "      <td>0.036835</td>\n",
       "    </tr>\n",
       "    <tr>\n",
       "      <th>0</th>\n",
       "      <td>Year</td>\n",
       "      <td>0.014436</td>\n",
       "    </tr>\n",
       "    <tr>\n",
       "      <th>6</th>\n",
       "      <td>Year_of_Last_Appearance</td>\n",
       "      <td>0.005602</td>\n",
       "    </tr>\n",
       "    <tr>\n",
       "      <th>4</th>\n",
       "      <td>Is_Famous</td>\n",
       "      <td>0.003564</td>\n",
       "    </tr>\n",
       "    <tr>\n",
       "      <th>16</th>\n",
       "      <td>Vowel_Ratio</td>\n",
       "      <td>0.002399</td>\n",
       "    </tr>\n",
       "    <tr>\n",
       "      <th>1533</th>\n",
       "      <td>Name_James</td>\n",
       "      <td>0.002027</td>\n",
       "    </tr>\n",
       "    <tr>\n",
       "      <th>13</th>\n",
       "      <td>Name_Length</td>\n",
       "      <td>0.001777</td>\n",
       "    </tr>\n",
       "    <tr>\n",
       "      <th>17</th>\n",
       "      <td>Ends_With_Specified_Letters</td>\n",
       "      <td>0.001714</td>\n",
       "    </tr>\n",
       "    <tr>\n",
       "      <th>15</th>\n",
       "      <td>Consonant_Count</td>\n",
       "      <td>0.001576</td>\n",
       "    </tr>\n",
       "    <tr>\n",
       "      <th>14</th>\n",
       "      <td>Vowel_Count</td>\n",
       "      <td>0.001384</td>\n",
       "    </tr>\n",
       "    <tr>\n",
       "      <th>3343</th>\n",
       "      <td>Name_William</td>\n",
       "      <td>0.001376</td>\n",
       "    </tr>\n",
       "    <tr>\n",
       "      <th>3344</th>\n",
       "      <td>Name_Willie</td>\n",
       "      <td>0.001359</td>\n",
       "    </tr>\n",
       "  </tbody>\n",
       "</table>\n",
       "</div>"
      ],
      "text/plain": [
       "                                     feature  importance\n",
       "3                          Gender_Name_Ratio    0.185472\n",
       "9     Rolling_Average_National_Ratio_5_Years    0.179726\n",
       "2                                 Name_Ratio    0.155933\n",
       "8       Rolling_Average_Gender_Ratio_5_Years    0.116324\n",
       "1                                      Count    0.088664\n",
       "7              Rolling_Average_Count_5_Years    0.070163\n",
       "12              Yearly_Change_National_Ratio    0.045798\n",
       "11                Yearly_Change_Gender_Ratio    0.037050\n",
       "10                       Yearly_Change_Count    0.036835\n",
       "0                                       Year    0.014436\n",
       "6                    Year_of_Last_Appearance    0.005602\n",
       "4                                  Is_Famous    0.003564\n",
       "16                               Vowel_Ratio    0.002399\n",
       "1533                              Name_James    0.002027\n",
       "13                               Name_Length    0.001777\n",
       "17               Ends_With_Specified_Letters    0.001714\n",
       "15                           Consonant_Count    0.001576\n",
       "14                               Vowel_Count    0.001384\n",
       "3343                            Name_William    0.001376\n",
       "3344                             Name_Willie    0.001359"
      ]
     },
     "execution_count": 14,
     "metadata": {},
     "output_type": "execute_result"
    }
   ],
   "source": [
    "feature_importances.head(20)"
   ]
  },
  {
   "cell_type": "code",
   "execution_count": null,
   "id": "dd101afe",
   "metadata": {},
   "outputs": [],
   "source": []
  }
 ],
 "metadata": {
  "kernelspec": {
   "display_name": "ml_env",
   "language": "python",
   "name": "ml_env"
  },
  "language_info": {
   "codemirror_mode": {
    "name": "ipython",
    "version": 3
   },
   "file_extension": ".py",
   "mimetype": "text/x-python",
   "name": "python",
   "nbconvert_exporter": "python",
   "pygments_lexer": "ipython3",
   "version": "3.8.17"
  }
 },
 "nbformat": 4,
 "nbformat_minor": 5
}

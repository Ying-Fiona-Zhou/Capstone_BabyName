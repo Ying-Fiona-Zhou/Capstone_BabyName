{
 "cells": [
  {
   "cell_type": "code",
   "execution_count": 15,
   "metadata": {},
   "outputs": [],
   "source": [
    "import numpy as np\n",
    "import pandas as pd\n",
    "\n",
    "# plotting\n",
    "import plotly.express as px\n",
    "from plotly.subplots import make_subplots\n",
    "import plotly.graph_objs as go\n",
    "import matplotlib.pyplot as plt\n",
    "\n",
    "# stats\n",
    "from statsmodels.api import tsa # time series analysis\n",
    "import statsmodels.api as sm\n",
    "from statsmodels.tsa.statespace.sarimax import SARIMAX\n",
    "\n",
    "\n",
    "from prophet import Prophet"
   ]
  },
  {
   "cell_type": "code",
   "execution_count": 16,
   "metadata": {},
   "outputs": [
    {
     "name": "stdout",
     "output_type": "stream",
     "text": [
      "   Unnamed: 0     Name  Year Gender  Count  Name_Ratio  Gender_Name_Ratio\n",
      "0           0    Emily  2000      F  25959    6.867840          14.295257\n",
      "1           1   Hannah  2000      F  23086    6.107745          12.713136\n",
      "2           2  Madison  2000      F  19968    5.282832          10.996097\n",
      "3           3   Ashley  2000      F  17998    4.761639           9.911246\n",
      "4           4    Sarah  2000      F  17713    4.686238           9.754300\n"
     ]
    }
   ],
   "source": [
    "file_path = '/Users/yingzhou/Downloads/Capstone_Babyname/Notebook_data/data.csv'\n",
    "\n",
    "# Read the CSV file into a DataFrame\n",
    "df = pd.read_csv(file_path)\n",
    "\n",
    "# Display the first few rows to verify\n",
    "print(df.head())"
   ]
  },
  {
   "cell_type": "code",
   "execution_count": 17,
   "metadata": {},
   "outputs": [
    {
     "name": "stdout",
     "output_type": "stream",
     "text": [
      "   Unnamed: 0  Rank      Name  Number Gender  Year\n",
      "0           0     1    OLIVER     555   Male  2023\n",
      "1           1     2      NOAH     537   Male  2023\n",
      "2           2     3       LEO     409   Male  2023\n",
      "3           3     4     HENRY     404   Male  2023\n",
      "4           4     5  THEODORE     400   Male  2023\n"
     ]
    }
   ],
   "source": [
    "file_path = '/Users/yingzhou/Downloads/Capstone_Babyname/Notebook_data/dataset3.csv'\n",
    "\n",
    "# Read the CSV file into a DataFrame\n",
    "rank = pd.read_csv(file_path)\n",
    "\n",
    "# Display the first few rows to verify\n",
    "print(rank.head())\n"
   ]
  },
  {
   "cell_type": "code",
   "execution_count": 18,
   "metadata": {},
   "outputs": [
    {
     "name": "stdout",
     "output_type": "stream",
     "text": [
      "Top 100 Male Names for 2023:\n",
      "    Unnamed: 0  Rank      Name  Number Gender  Year\n",
      "0            0     1    OLIVER     555   Male  2023\n",
      "1            1     2      NOAH     537   Male  2023\n",
      "2            2     3       LEO     409   Male  2023\n",
      "3            3     4     HENRY     404   Male  2023\n",
      "4            4     5  THEODORE     400   Male  2023\n",
      "..         ...   ...       ...     ...    ...   ...\n",
      "95          95    93    JOSHUA      89   Male  2023\n",
      "96          96    97      ZAYN      88   Male  2023\n",
      "97          97    97    MARCUS      88   Male  2023\n",
      "98          98    97     ASHER      88   Male  2023\n",
      "99          99   100       ALI      87   Male  2023\n",
      "\n",
      "[100 rows x 6 columns]\n",
      "\n",
      "Top 100 Female Names for 2023:\n",
      "     Unnamed: 0  Rank       Name  Number  Gender  Year\n",
      "100         100     1       ISLA     403  Female  2023\n",
      "101         101     2     AMELIA     399  Female  2023\n",
      "102         102     3     OLIVIA     381  Female  2023\n",
      "103         103     4        MIA     347  Female  2023\n",
      "104         104     5  CHARLOTTE     338  Female  2023\n",
      "..          ...   ...        ...     ...     ...   ...\n",
      "195         195    96      BELLA      72  Female  2023\n",
      "196         196    97  VALENTINA      71  Female  2023\n",
      "197         197    97      ZAHRA      71  Female  2023\n",
      "198         198    97    ADDISON      71  Female  2023\n",
      "199         199    97    ADELINE      71  Female  2023\n",
      "\n",
      "[100 rows x 6 columns]\n"
     ]
    }
   ],
   "source": [
    "# Prove the prediction\n",
    "# Filter for the year 2023\n",
    "years_of_interest = [2023]\n",
    "rank_filtered = rank[rank['Year'].isin(years_of_interest)]\n",
    "\n",
    "# Top 100 male names for 2023\n",
    "top_100_male_2023 = rank_filtered[(rank_filtered['Year'] == 2023) & (rank_filtered['Gender'] == 'Male')].head(100)\n",
    "\n",
    "# Top 100 female names for 2023\n",
    "top_100_female_2023 = rank_filtered[(rank_filtered['Year'] == 2023) & (rank_filtered['Gender'] == 'Female')].head(100)\n",
    "\n",
    "# Display the results\n",
    "print(\"Top 100 Male Names for 2023:\")\n",
    "print(top_100_male_2023)\n",
    "\n",
    "print(\"\\nTop 100 Female Names for 2023:\")\n",
    "print(top_100_female_2023)\n"
   ]
  },
  {
   "cell_type": "code",
   "execution_count": 27,
   "metadata": {},
   "outputs": [
    {
     "name": "stdout",
     "output_type": "stream",
     "text": [
      "Top 100 Female Names by Count for 2022:\n",
      "         Unnamed: 0       Name  Year Gender  Count  Name_Ratio  \\\n",
      "1832354     1832354     Olivia  2022      F  16630    4.922141   \n",
      "1832355     1832355       Emma  2022      F  14484    4.286969   \n",
      "1832356     1832356  Charlotte  2022      F  12936    3.828792   \n",
      "1832357     1832357     Amelia  2022      F  12400    3.670147   \n",
      "1832358     1832358     Sophia  2022      F  12361    3.658604   \n",
      "...             ...        ...   ...    ...    ...         ...   \n",
      "1832449     1832449   Serenity  2022      F   2796    0.827559   \n",
      "1832450     1832450    Liliana  2022      F   2784    0.824007   \n",
      "1832451     1832451       Ayla  2022      F   2751    0.814240   \n",
      "1832452     1832452    Raelynn  2022      F   2719    0.804769   \n",
      "1832453     1832453  Everleigh  2022      F   2716    0.803881   \n",
      "\n",
      "         Gender_Name_Ratio  \n",
      "1832354          10.160956  \n",
      "1832355           8.849747  \n",
      "1832356           7.903916  \n",
      "1832357           7.576419  \n",
      "1832358           7.552590  \n",
      "...                    ...  \n",
      "1832449           1.708360  \n",
      "1832450           1.701028  \n",
      "1832451           1.680865  \n",
      "1832452           1.661313  \n",
      "1832453           1.659480  \n",
      "\n",
      "[100 rows x 7 columns]\n",
      "\n",
      "Top 100 Male Names by Count for 2022:\n",
      "         Unnamed: 0      Name  Year Gender  Count  Name_Ratio  \\\n",
      "1850085     1850085      Liam  2022      M  20533    6.077350   \n",
      "1850086     1850086      Noah  2022      M  18708    5.537187   \n",
      "1850087     1850087    Oliver  2022      M  15141    4.481427   \n",
      "1850088     1850088     James  2022      M  12089    3.578098   \n",
      "1850089     1850089    Elijah  2022      M  12054    3.567738   \n",
      "...             ...       ...   ...    ...    ...         ...   \n",
      "1850180     1850180     Rowan  2022      M   3754    1.111107   \n",
      "1850182     1850182  Nicholas  2022      M   3634    1.075590   \n",
      "1850181     1850181      Adam  2022      M   3634    1.075590   \n",
      "1850183     1850183      Theo  2022      M   3629    1.074110   \n",
      "1850184     1850184    Xavier  2022      M   3609    1.068190   \n",
      "\n",
      "         Gender_Name_Ratio  \n",
      "1850085          11.787338  \n",
      "1850086          10.739664  \n",
      "1850087           8.691963  \n",
      "1850088           6.939908  \n",
      "1850089           6.919815  \n",
      "...                    ...  \n",
      "1850180           2.155051  \n",
      "1850182           2.086163  \n",
      "1850181           2.086163  \n",
      "1850183           2.083293  \n",
      "1850184           2.071811  \n",
      "\n",
      "[100 rows x 7 columns]\n"
     ]
    }
   ],
   "source": [
    "# Filter the DataFrame for the year 2022\n",
    "df_2022 = df[df['Year'] == 2022]\n",
    "\n",
    "# Filter for females and sort by Count to get the top 100\n",
    "top_100_female_2022 = df_2022[df_2022['Gender'] == 'F'].sort_values(by='Count', ascending=False).head(100)\n",
    "\n",
    "# Filter for males and sort by Count to get the top 100\n",
    "top_100_male_2022 = df_2022[df_2022['Gender'] == 'M'].sort_values(by='Count', ascending=False).head(100)\n",
    "\n",
    "# Display the results\n",
    "print(\"Top 100 Female Names by Count for 2022:\")\n",
    "print(top_100_female_2022)\n",
    "\n",
    "print(\"\\nTop 100 Male Names by Count for 2022:\")\n",
    "print(top_100_male_2022)"
   ]
  },
  {
   "cell_type": "code",
   "execution_count": 28,
   "metadata": {},
   "outputs": [
    {
     "name": "stdout",
     "output_type": "stream",
     "text": [
      "         ds          y\n",
      "15     2000   7.078517\n",
      "27641  2000   0.003055\n",
      "29778  2014  11.107869\n",
      "53356  2014   0.011980\n",
      "63378  1938   0.403287\n"
     ]
    }
   ],
   "source": [
    "# Select one of the top female names to forecast\n",
    "top_female_name = top_100_female_2022.iloc[0]['Name']\n",
    "top_female_name_df = df[df['Name'] == top_female_name]\n",
    "\n",
    "# Prepare the DataFrame for Prophet\n",
    "top_female_name_df_prophet_ratio = top_female_name_df[['Year', 'Count']].rename(columns={'Year': 'ds', 'Gender_Name_Ratio': 'y'})\n",
    "\n",
    "# Check the prepared DataFrame\n",
    "print(top_female_name_df_prophet.head())\n"
   ]
  },
  {
   "cell_type": "code",
   "execution_count": 26,
   "metadata": {},
   "outputs": [
    {
     "name": "stderr",
     "output_type": "stream",
     "text": [
      "08:32:15 - cmdstanpy - INFO - Chain [1] start processing\n",
      "08:32:15 - cmdstanpy - INFO - Chain [1] done processing\n",
      "/Users/yingzhou/anaconda3/envs/timeseries3/lib/python3.12/site-packages/prophet/forecaster.py:1854: FutureWarning: 'Y' is deprecated and will be removed in a future version, please use 'YE' instead.\n",
      "  dates = pd.date_range(\n"
     ]
    },
    {
     "name": "stdout",
     "output_type": "stream",
     "text": [
      "                               ds      yhat  yhat_lower  yhat_upper\n",
      "149 1975-12-31 00:00:00.000002023  1.087486   -2.437593    4.535112\n",
      "150 1976-12-31 00:00:00.000002023  1.465317   -1.802065    4.708290\n",
      "151 1977-12-31 00:00:00.000002023  1.401708   -1.801918    4.706538\n",
      "152 1978-12-31 00:00:00.000002023  1.339500   -2.174602    4.507368\n",
      "153 1979-12-31 00:00:00.000002023  1.282712   -1.909583    4.545149\n"
     ]
    },
    {
     "name": "stderr",
     "output_type": "stream",
     "text": [
      "/Users/yingzhou/anaconda3/envs/timeseries3/lib/python3.12/site-packages/prophet/plot.py:72: FutureWarning: The behavior of DatetimeProperties.to_pydatetime is deprecated, in a future version this will return a Series containing python datetime objects instead of an ndarray. To retain the old behavior, call `np.array` on the result\n",
      "  fcst_t = fcst['ds'].dt.to_pydatetime()\n",
      "/Users/yingzhou/anaconda3/envs/timeseries3/lib/python3.12/site-packages/prophet/plot.py:73: FutureWarning: The behavior of DatetimeProperties.to_pydatetime is deprecated, in a future version this will return a Series containing python datetime objects instead of an ndarray. To retain the old behavior, call `np.array` on the result\n",
      "  ax.plot(m.history['ds'].dt.to_pydatetime(), m.history['y'], 'k.',\n",
      "/var/folders/76/n9t9gpfd0fv2h7d9d4ypy0380000gn/T/ipykernel_17002/3000724544.py:18: UserWarning: FigureCanvasAgg is non-interactive, and thus cannot be shown\n",
      "  fig_ratio.show()\n"
     ]
    },
    {
     "data": {
      "image/png": "[encoded data removed]",
      "text/plain": [
       "<Figure size 1000x600 with 1 Axes>"
      ]
     },
     "metadata": {},
     "output_type": "display_data"
    }
   ],
   "source": [
    "# Initialize a Prophet model\n",
    "model_ratio = Prophet()\n",
    "\n",
    "# Fit the model on the data\n",
    "model_ratio.fit(top_female_name_df_prophet_ratio)\n",
    "\n",
    "# Make a future dataframe for the next 10 years\n",
    "future_ratio = model_ratio.make_future_dataframe(periods=10, freq='Y')\n",
    "\n",
    "# Forecast the future values\n",
    "forecast_ratio = model_ratio.predict(future_ratio)\n",
    "\n",
    "# Display the forecast\n",
    "print(forecast_ratio[['ds', 'yhat', 'yhat_lower', 'yhat_upper']].tail())\n",
    "\n",
    "# Plot the forecast\n",
    "fig_ratio = model_ratio.plot(forecast_ratio)\n",
    "fig_ratio.show()"
   ]
  },
  {
   "cell_type": "code",
   "execution_count": null,
   "metadata": {},
   "outputs": [],
   "source": []
  }
 ],
 "metadata": {
  "kernelspec": {
   "display_name": "timeseries3",
   "language": "python",
   "name": "timeseries3"
  },
  "language_info": {
   "codemirror_mode": {
    "name": "ipython",
    "version": 3
   },
   "file_extension": ".py",
   "mimetype": "text/x-python",
   "name": "python",
   "nbconvert_exporter": "python",
   "pygments_lexer": "ipython3",
   "version": "3.12.4"
  }
 },
 "nbformat": 4,
 "nbformat_minor": 2
}

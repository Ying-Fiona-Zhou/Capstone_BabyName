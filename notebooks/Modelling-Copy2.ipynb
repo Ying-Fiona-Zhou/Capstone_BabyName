{
 "cells": [
  {
   "cell_type": "code",
   "execution_count": 15,
   "metadata": {},
   "outputs": [],
   "source": [
    "import numpy as np\n",
    "import pandas as pd\n",
    "\n",
    "# plotting\n",
    "import plotly.express as px\n",
    "from plotly.subplots import make_subplots\n",
    "import plotly.graph_objs as go\n",
    "import matplotlib.pyplot as plt\n",
    "\n",
    "# stats\n",
    "from statsmodels.api import tsa # time series analysis\n",
    "import statsmodels.api as sm\n",
    "from statsmodels.tsa.statespace.sarimax import SARIMAX\n",
    "\n",
    "\n",
    "from prophet import Prophet"
   ]
  },
  {
   "cell_type": "code",
   "execution_count": 16,
   "metadata": {},
   "outputs": [
    {
     "name": "stdout",
     "output_type": "stream",
     "text": [
      "   Unnamed: 0     Name  Year Gender  Count  Name_Ratio  Gender_Name_Ratio\n",
      "0           0    Emily  2000      F  25959    6.867840          14.295257\n",
      "1           1   Hannah  2000      F  23086    6.107745          12.713136\n",
      "2           2  Madison  2000      F  19968    5.282832          10.996097\n",
      "3           3   Ashley  2000      F  17998    4.761639           9.911246\n",
      "4           4    Sarah  2000      F  17713    4.686238           9.754300\n"
     ]
    }
   ],
   "source": [
    "file_path = '/Users/yingzhou/Downloads/Capstone_Babyname/Notebook_data/data.csv'\n",
    "\n",
    "# Read the CSV file into a DataFrame\n",
    "df = pd.read_csv(file_path)\n",
    "\n",
    "# Display the first few rows to verify\n",
    "print(df.head())"
   ]
  },
  {
   "cell_type": "code",
   "execution_count": 17,
   "metadata": {},
   "outputs": [
    {
     "name": "stdout",
     "output_type": "stream",
     "text": [
      "   Unnamed: 0  Rank      Name  Number Gender  Year\n",
      "0           0     1    OLIVER     555   Male  2023\n",
      "1           1     2      NOAH     537   Male  2023\n",
      "2           2     3       LEO     409   Male  2023\n",
      "3           3     4     HENRY     404   Male  2023\n",
      "4           4     5  THEODORE     400   Male  2023\n"
     ]
    }
   ],
   "source": [
    "file_path = '/Users/yingzhou/Downloads/Capstone_Babyname/Notebook_data/dataset3.csv'\n",
    "\n",
    "# Read the CSV file into a DataFrame\n",
    "rank = pd.read_csv(file_path)\n",
    "\n",
    "# Display the first few rows to verify\n",
    "print(rank.head())\n"
   ]
  },
  {
   "cell_type": "code",
   "execution_count": 18,
   "metadata": {},
   "outputs": [
    {
     "name": "stdout",
     "output_type": "stream",
     "text": [
      "Top 100 Male Names for 2023:\n",
      "    Unnamed: 0  Rank      Name  Number Gender  Year\n",
      "0            0     1    OLIVER     555   Male  2023\n",
      "1            1     2      NOAH     537   Male  2023\n",
      "2            2     3       LEO     409   Male  2023\n",
      "3            3     4     HENRY     404   Male  2023\n",
      "4            4     5  THEODORE     400   Male  2023\n",
      "..         ...   ...       ...     ...    ...   ...\n",
      "95          95    93    JOSHUA      89   Male  2023\n",
      "96          96    97      ZAYN      88   Male  2023\n",
      "97          97    97    MARCUS      88   Male  2023\n",
      "98          98    97     ASHER      88   Male  2023\n",
      "99          99   100       ALI      87   Male  2023\n",
      "\n",
      "[100 rows x 6 columns]\n",
      "\n",
      "Top 100 Female Names for 2023:\n",
      "     Unnamed: 0  Rank       Name  Number  Gender  Year\n",
      "100         100     1       ISLA     403  Female  2023\n",
      "101         101     2     AMELIA     399  Female  2023\n",
      "102         102     3     OLIVIA     381  Female  2023\n",
      "103         103     4        MIA     347  Female  2023\n",
      "104         104     5  CHARLOTTE     338  Female  2023\n",
      "..          ...   ...        ...     ...     ...   ...\n",
      "195         195    96      BELLA      72  Female  2023\n",
      "196         196    97  VALENTINA      71  Female  2023\n",
      "197         197    97      ZAHRA      71  Female  2023\n",
      "198         198    97    ADDISON      71  Female  2023\n",
      "199         199    97    ADELINE      71  Female  2023\n",
      "\n",
      "[100 rows x 6 columns]\n"
     ]
    }
   ],
   "source": [
    "# Prove the prediction\n",
    "# Filter for the year 2023\n",
    "years_of_interest = [2023]\n",
    "rank_filtered = rank[rank['Year'].isin(years_of_interest)]\n",
    "\n",
    "# Top 100 male names for 2023\n",
    "top_100_male_2023 = rank_filtered[(rank_filtered['Year'] == 2023) & (rank_filtered['Gender'] == 'Male')].head(100)\n",
    "\n",
    "# Top 100 female names for 2023\n",
    "top_100_female_2023 = rank_filtered[(rank_filtered['Year'] == 2023) & (rank_filtered['Gender'] == 'Female')].head(100)\n",
    "\n",
    "# Display the results\n",
    "print(\"Top 100 Male Names for 2023:\")\n",
    "print(top_100_male_2023)\n",
    "\n",
    "print(\"\\nTop 100 Female Names for 2023:\")\n",
    "print(top_100_female_2023)\n"
   ]
  },
  {
   "cell_type": "markdown",
   "metadata": {},
   "source": [
    "### Step 1: Filter the Top Names by Gender"
   ]
  },
  {
   "cell_type": "code",
   "execution_count": 34,
   "metadata": {},
   "outputs": [
    {
     "name": "stdout",
     "output_type": "stream",
     "text": [
      "Top 100 Female Names by Gender_Name_Ratio for 2022:\n",
      "         Unnamed: 0       Name  Year Gender  Count  Name_Ratio  \\\n",
      "1832354     1832354     Olivia  2022      F  16630    4.922141   \n",
      "1832355     1832355       Emma  2022      F  14484    4.286969   \n",
      "1832356     1832356  Charlotte  2022      F  12936    3.828792   \n",
      "1832357     1832357     Amelia  2022      F  12400    3.670147   \n",
      "1832358     1832358     Sophia  2022      F  12361    3.658604   \n",
      "...             ...        ...   ...    ...    ...         ...   \n",
      "1832449     1832449   Serenity  2022      F   2796    0.827559   \n",
      "1832450     1832450    Liliana  2022      F   2784    0.824007   \n",
      "1832451     1832451       Ayla  2022      F   2751    0.814240   \n",
      "1832452     1832452    Raelynn  2022      F   2719    0.804769   \n",
      "1832453     1832453  Everleigh  2022      F   2716    0.803881   \n",
      "\n",
      "         Gender_Name_Ratio  \n",
      "1832354          10.160956  \n",
      "1832355           8.849747  \n",
      "1832356           7.903916  \n",
      "1832357           7.576419  \n",
      "1832358           7.552590  \n",
      "...                    ...  \n",
      "1832449           1.708360  \n",
      "1832450           1.701028  \n",
      "1832451           1.680865  \n",
      "1832452           1.661313  \n",
      "1832453           1.659480  \n",
      "\n",
      "[100 rows x 7 columns]\n",
      "\n",
      "Top 100 Male Names by Gender_Name_Ratio for 2022:\n",
      "         Unnamed: 0      Name  Year Gender  Count  Name_Ratio  \\\n",
      "1850085     1850085      Liam  2022      M  20533    6.077350   \n",
      "1850086     1850086      Noah  2022      M  18708    5.537187   \n",
      "1850087     1850087    Oliver  2022      M  15141    4.481427   \n",
      "1850088     1850088     James  2022      M  12089    3.578098   \n",
      "1850089     1850089    Elijah  2022      M  12054    3.567738   \n",
      "...             ...       ...   ...    ...    ...         ...   \n",
      "1850180     1850180     Rowan  2022      M   3754    1.111107   \n",
      "1850182     1850182  Nicholas  2022      M   3634    1.075590   \n",
      "1850181     1850181      Adam  2022      M   3634    1.075590   \n",
      "1850183     1850183      Theo  2022      M   3629    1.074110   \n",
      "1850184     1850184    Xavier  2022      M   3609    1.068190   \n",
      "\n",
      "         Gender_Name_Ratio  \n",
      "1850085          11.787338  \n",
      "1850086          10.739664  \n",
      "1850087           8.691963  \n",
      "1850088           6.939908  \n",
      "1850089           6.919815  \n",
      "...                    ...  \n",
      "1850180           2.155051  \n",
      "1850182           2.086163  \n",
      "1850181           2.086163  \n",
      "1850183           2.083293  \n",
      "1850184           2.071811  \n",
      "\n",
      "[100 rows x 7 columns]\n"
     ]
    }
   ],
   "source": [
    "# Filter the DataFrame for the year 2022\n",
    "df_2022 = df[df['Year'] == 2022]\n",
    "\n",
    "# Filter for females and sort by Count to get the top 100\n",
    "top_100_female_2022 = df_2022[df_2022['Gender'] == 'F'].sort_values(by='Gender_Name_Ratio', ascending=False).head(100)\n",
    "\n",
    "# Filter for males and sort by Count to get the top 100\n",
    "top_100_male_2022 = df_2022[df_2022['Gender'] == 'M'].sort_values(by='Gender_Name_Ratio', ascending=False).head(100)\n",
    "\n",
    "# Display the results\n",
    "print(\"Top 100 Female Names by Gender_Name_Ratio for 2022:\")\n",
    "print(top_100_female_2022)\n",
    "\n",
    "print(\"\\nTop 100 Male Names by Gender_Name_Ratio for 2022:\")\n",
    "print(top_100_male_2022)"
   ]
  },
  {
   "cell_type": "markdown",
   "metadata": {},
   "source": [
    "### Step 2: Prepare Data for Prophet"
   ]
  },
  {
   "cell_type": "code",
   "execution_count": 38,
   "metadata": {},
   "outputs": [
    {
     "name": "stdout",
     "output_type": "stream",
     "text": [
      "Validation error for Olivia: Filtered DataFrame is missing required columns.\n",
      "Validation error for Emma: Filtered DataFrame is missing required columns.\n",
      "Validation error for Charlotte: Filtered DataFrame is missing required columns.\n",
      "Validation error for Amelia: Filtered DataFrame is missing required columns.\n",
      "Validation error for Sophia: Filtered DataFrame is missing required columns.\n",
      "Validation error for Isabella: Filtered DataFrame is missing required columns.\n",
      "Validation error for Ava: Filtered DataFrame is missing required columns.\n",
      "Validation error for Mia: Filtered DataFrame is missing required columns.\n",
      "Validation error for Evelyn: Filtered DataFrame is missing required columns.\n",
      "Validation error for Luna: Filtered DataFrame is missing required columns.\n",
      "Validation error for Harper: Filtered DataFrame is missing required columns.\n",
      "Validation error for Camila: Filtered DataFrame is missing required columns.\n",
      "Validation error for Sofia: Filtered DataFrame is missing required columns.\n",
      "Validation error for Scarlett: Filtered DataFrame is missing required columns.\n",
      "Validation error for Elizabeth: Filtered DataFrame is missing required columns.\n",
      "Validation error for Eleanor: Filtered DataFrame is missing required columns.\n",
      "Validation error for Emily: Filtered DataFrame is missing required columns.\n",
      "Validation error for Mila: Filtered DataFrame is missing required columns.\n",
      "Validation error for Chloe: Filtered DataFrame is missing required columns.\n",
      "Validation error for Violet: Filtered DataFrame is missing required columns.\n",
      "Validation error for Penelope: Filtered DataFrame is missing required columns.\n",
      "Validation error for Gianna: Filtered DataFrame is missing required columns.\n",
      "Validation error for Aria: Filtered DataFrame is missing required columns.\n",
      "Validation error for Abigail: Filtered DataFrame is missing required columns.\n",
      "Validation error for Ella: Filtered DataFrame is missing required columns.\n",
      "Validation error for Avery: Filtered DataFrame is missing required columns.\n",
      "Validation error for Hazel: Filtered DataFrame is missing required columns.\n",
      "Validation error for Nora: Filtered DataFrame is missing required columns.\n",
      "Validation error for Layla: Filtered DataFrame is missing required columns.\n",
      "Validation error for Lily: Filtered DataFrame is missing required columns.\n",
      "Validation error for Aurora: Filtered DataFrame is missing required columns.\n",
      "Validation error for Nova: Filtered DataFrame is missing required columns.\n",
      "Validation error for Ellie: Filtered DataFrame is missing required columns.\n",
      "Validation error for Madison: Filtered DataFrame is missing required columns.\n",
      "Validation error for Isla: Filtered DataFrame is missing required columns.\n",
      "Validation error for Grace: Filtered DataFrame is missing required columns.\n",
      "Validation error for Willow: Filtered DataFrame is missing required columns.\n",
      "Validation error for Zoe: Filtered DataFrame is missing required columns.\n",
      "Validation error for Riley: Filtered DataFrame is missing required columns.\n",
      "Validation error for Stella: Filtered DataFrame is missing required columns.\n",
      "Validation error for Ivy: Filtered DataFrame is missing required columns.\n",
      "Validation error for Eliana: Filtered DataFrame is missing required columns.\n",
      "Validation error for Victoria: Filtered DataFrame is missing required columns.\n",
      "Validation error for Emilia: Filtered DataFrame is missing required columns.\n",
      "Validation error for Zoey: Filtered DataFrame is missing required columns.\n",
      "Validation error for Naomi: Filtered DataFrame is missing required columns.\n",
      "Validation error for Hannah: Filtered DataFrame is missing required columns.\n",
      "Validation error for Lucy: Filtered DataFrame is missing required columns.\n",
      "Validation error for Elena: Filtered DataFrame is missing required columns.\n",
      "Validation error for Lillian: Filtered DataFrame is missing required columns.\n",
      "Validation error for Maya: Filtered DataFrame is missing required columns.\n",
      "Validation error for Leah: Filtered DataFrame is missing required columns.\n",
      "Validation error for Paisley: Filtered DataFrame is missing required columns.\n",
      "Validation error for Addison: Filtered DataFrame is missing required columns.\n",
      "Validation error for Natalie: Filtered DataFrame is missing required columns.\n",
      "Validation error for Everly: Filtered DataFrame is missing required columns.\n",
      "Validation error for Valentina: Filtered DataFrame is missing required columns.\n",
      "Validation error for Delilah: Filtered DataFrame is missing required columns.\n",
      "Validation error for Leilani: Filtered DataFrame is missing required columns.\n",
      "Validation error for Madelyn: Filtered DataFrame is missing required columns.\n",
      "Validation error for Kinsley: Filtered DataFrame is missing required columns.\n",
      "Validation error for Ruby: Filtered DataFrame is missing required columns.\n",
      "Validation error for Sophie: Filtered DataFrame is missing required columns.\n",
      "Validation error for Alice: Filtered DataFrame is missing required columns.\n",
      "Validation error for Genesis: Filtered DataFrame is missing required columns.\n",
      "Validation error for Claire: Filtered DataFrame is missing required columns.\n",
      "Validation error for Audrey: Filtered DataFrame is missing required columns.\n",
      "Validation error for Sadie: Filtered DataFrame is missing required columns.\n",
      "Validation error for Aaliyah: Filtered DataFrame is missing required columns.\n",
      "Validation error for Josephine: Filtered DataFrame is missing required columns.\n",
      "Validation error for Autumn: Filtered DataFrame is missing required columns.\n",
      "Validation error for Brooklyn: Filtered DataFrame is missing required columns.\n",
      "Validation error for Quinn: Filtered DataFrame is missing required columns.\n",
      "Validation error for Kennedy: Filtered DataFrame is missing required columns.\n",
      "Validation error for Cora: Filtered DataFrame is missing required columns.\n",
      "Validation error for Savannah: Filtered DataFrame is missing required columns.\n",
      "Validation error for Caroline: Filtered DataFrame is missing required columns.\n",
      "Validation error for Athena: Filtered DataFrame is missing required columns.\n",
      "Validation error for Natalia: Filtered DataFrame is missing required columns.\n",
      "Validation error for Hailey: Filtered DataFrame is missing required columns.\n",
      "Validation error for Aubrey: Filtered DataFrame is missing required columns.\n",
      "Validation error for Emery: Filtered DataFrame is missing required columns.\n",
      "Validation error for Anna: Filtered DataFrame is missing required columns.\n",
      "Validation error for Iris: Filtered DataFrame is missing required columns.\n",
      "Validation error for Bella: Filtered DataFrame is missing required columns.\n",
      "Validation error for Eloise: Filtered DataFrame is missing required columns.\n",
      "Validation error for Skylar: Filtered DataFrame is missing required columns.\n",
      "Validation error for Jade: Filtered DataFrame is missing required columns.\n",
      "Validation error for Gabriella: Filtered DataFrame is missing required columns.\n",
      "Validation error for Ariana: Filtered DataFrame is missing required columns.\n",
      "Validation error for Maria: Filtered DataFrame is missing required columns.\n",
      "Validation error for Adeline: Filtered DataFrame is missing required columns.\n",
      "Validation error for Lydia: Filtered DataFrame is missing required columns.\n",
      "Validation error for Nevaeh: Filtered DataFrame is missing required columns.\n",
      "Validation error for Sarah: Filtered DataFrame is missing required columns.\n",
      "Validation error for Serenity: Filtered DataFrame is missing required columns.\n",
      "Validation error for Liliana: Filtered DataFrame is missing required columns.\n",
      "Validation error for Ayla: Filtered DataFrame is missing required columns.\n",
      "Validation error for Raelynn: Filtered DataFrame is missing required columns.\n",
      "Validation error for Everleigh: Filtered DataFrame is missing required columns.\n",
      "Validation error for Liam: Filtered DataFrame is missing required columns.\n",
      "Validation error for Noah: Filtered DataFrame is missing required columns.\n",
      "Validation error for Oliver: Filtered DataFrame is missing required columns.\n",
      "Validation error for James: Filtered DataFrame is missing required columns.\n",
      "Validation error for Elijah: Filtered DataFrame is missing required columns.\n",
      "Validation error for William: Filtered DataFrame is missing required columns.\n",
      "Validation error for Henry: Filtered DataFrame is missing required columns.\n",
      "Validation error for Lucas: Filtered DataFrame is missing required columns.\n",
      "Validation error for Benjamin: Filtered DataFrame is missing required columns.\n",
      "Validation error for Theodore: Filtered DataFrame is missing required columns.\n",
      "Validation error for Mateo: Filtered DataFrame is missing required columns.\n",
      "Validation error for Levi: Filtered DataFrame is missing required columns.\n",
      "Validation error for Sebastian: Filtered DataFrame is missing required columns.\n",
      "Validation error for Daniel: Filtered DataFrame is missing required columns.\n",
      "Validation error for Jack: Filtered DataFrame is missing required columns.\n",
      "Validation error for Michael: Filtered DataFrame is missing required columns.\n",
      "Validation error for Alexander: Filtered DataFrame is missing required columns.\n",
      "Validation error for Owen: Filtered DataFrame is missing required columns.\n",
      "Validation error for Samuel: Filtered DataFrame is missing required columns.\n",
      "Validation error for Asher: Filtered DataFrame is missing required columns.\n",
      "Validation error for Ethan: Filtered DataFrame is missing required columns.\n",
      "Validation error for Leo: Filtered DataFrame is missing required columns.\n",
      "Validation error for Jackson: Filtered DataFrame is missing required columns.\n",
      "Validation error for Mason: Filtered DataFrame is missing required columns.\n",
      "Validation error for Ezra: Filtered DataFrame is missing required columns.\n",
      "Validation error for John: Filtered DataFrame is missing required columns.\n",
      "Validation error for Hudson: Filtered DataFrame is missing required columns.\n",
      "Validation error for Luca: Filtered DataFrame is missing required columns.\n",
      "Validation error for Aiden: Filtered DataFrame is missing required columns.\n",
      "Validation error for Joseph: Filtered DataFrame is missing required columns.\n",
      "Validation error for David: Filtered DataFrame is missing required columns.\n",
      "Validation error for Jacob: Filtered DataFrame is missing required columns.\n",
      "Validation error for Logan: Filtered DataFrame is missing required columns.\n",
      "Validation error for Luke: Filtered DataFrame is missing required columns.\n",
      "Validation error for Julian: Filtered DataFrame is missing required columns.\n",
      "Validation error for Gabriel: Filtered DataFrame is missing required columns.\n",
      "Validation error for Grayson: Filtered DataFrame is missing required columns.\n",
      "Validation error for Wyatt: Filtered DataFrame is missing required columns.\n",
      "Validation error for Matthew: Filtered DataFrame is missing required columns.\n",
      "Validation error for Maverick: Filtered DataFrame is missing required columns.\n",
      "Validation error for Isaac: Filtered DataFrame is missing required columns.\n",
      "Validation error for Dylan: Filtered DataFrame is missing required columns.\n",
      "Validation error for Elias: Filtered DataFrame is missing required columns.\n",
      "Validation error for Anthony: Filtered DataFrame is missing required columns.\n",
      "Validation error for Thomas: Filtered DataFrame is missing required columns.\n",
      "Validation error for Jayden: Filtered DataFrame is missing required columns.\n",
      "Validation error for Carter: Filtered DataFrame is missing required columns.\n",
      "Validation error for Santiago: Filtered DataFrame is missing required columns.\n",
      "Validation error for Ezekiel: Filtered DataFrame is missing required columns.\n",
      "Validation error for Charles: Filtered DataFrame is missing required columns.\n",
      "Validation error for Josiah: Filtered DataFrame is missing required columns.\n",
      "Validation error for Caleb: Filtered DataFrame is missing required columns.\n",
      "Validation error for Cooper: Filtered DataFrame is missing required columns.\n",
      "Validation error for Lincoln: Filtered DataFrame is missing required columns.\n",
      "Validation error for Christopher: Filtered DataFrame is missing required columns.\n",
      "Validation error for Miles: Filtered DataFrame is missing required columns.\n",
      "Validation error for Nathan: Filtered DataFrame is missing required columns.\n",
      "Validation error for Isaiah: Filtered DataFrame is missing required columns.\n",
      "Validation error for Kai: Filtered DataFrame is missing required columns.\n",
      "Validation error for Joshua: Filtered DataFrame is missing required columns.\n",
      "Validation error for Andrew: Filtered DataFrame is missing required columns.\n",
      "Validation error for Angel: Filtered DataFrame is missing required columns.\n",
      "Validation error for Adrian: Filtered DataFrame is missing required columns.\n",
      "Validation error for Cameron: Filtered DataFrame is missing required columns.\n",
      "Validation error for Nolan: Filtered DataFrame is missing required columns.\n",
      "Validation error for Waylon: Filtered DataFrame is missing required columns.\n",
      "Validation error for Jaxon: Filtered DataFrame is missing required columns.\n",
      "Validation error for Roman: Filtered DataFrame is missing required columns.\n",
      "Validation error for Eli: Filtered DataFrame is missing required columns.\n",
      "Validation error for Wesley: Filtered DataFrame is missing required columns.\n",
      "Validation error for Aaron: Filtered DataFrame is missing required columns.\n",
      "Validation error for Ian: Filtered DataFrame is missing required columns.\n",
      "Validation error for Christian: Filtered DataFrame is missing required columns.\n",
      "Validation error for Ryan: Filtered DataFrame is missing required columns.\n",
      "Validation error for Leonardo: Filtered DataFrame is missing required columns.\n",
      "Validation error for Brooks: Filtered DataFrame is missing required columns.\n",
      "Validation error for Axel: Filtered DataFrame is missing required columns.\n",
      "Validation error for Walker: Filtered DataFrame is missing required columns.\n",
      "Validation error for Jonathan: Filtered DataFrame is missing required columns.\n",
      "Validation error for Easton: Filtered DataFrame is missing required columns.\n",
      "Validation error for Everett: Filtered DataFrame is missing required columns.\n",
      "Validation error for Weston: Filtered DataFrame is missing required columns.\n",
      "Validation error for Bennett: Filtered DataFrame is missing required columns.\n",
      "Validation error for Robert: Filtered DataFrame is missing required columns.\n",
      "Validation error for Jameson: Filtered DataFrame is missing required columns.\n",
      "Validation error for Jose: Filtered DataFrame is missing required columns.\n",
      "Validation error for Landon: Filtered DataFrame is missing required columns.\n",
      "Validation error for Silas: Filtered DataFrame is missing required columns.\n",
      "Validation error for Micah: Filtered DataFrame is missing required columns.\n",
      "Validation error for Beau: Filtered DataFrame is missing required columns.\n",
      "Validation error for Colton: Filtered DataFrame is missing required columns.\n",
      "Validation error for Jordan: Filtered DataFrame is missing required columns.\n",
      "Validation error for Jeremiah: Filtered DataFrame is missing required columns.\n",
      "Validation error for Parker: Filtered DataFrame is missing required columns.\n",
      "Validation error for Greyson: Filtered DataFrame is missing required columns.\n",
      "Validation error for Rowan: Filtered DataFrame is missing required columns.\n",
      "Validation error for Nicholas: Filtered DataFrame is missing required columns.\n",
      "Validation error for Adam: Filtered DataFrame is missing required columns.\n",
      "Validation error for Theo: Filtered DataFrame is missing required columns.\n",
      "Validation error for Xavier: Filtered DataFrame is missing required columns.\n"
     ]
    }
   ],
   "source": [
    "def prepare_data_for_prophet(df_filtered):\n",
    "    \"\"\"Prepare data for Prophet\"\"\"\n",
    "    # Validate input DataFrame\n",
    "    if df_filtered.empty:\n",
    "        raise ValueError(\"Filtered DataFrame is empty for the given name.\")\n",
    "    \n",
    "    # Check required columns exist\n",
    "    required_columns = {'Year', 'Gender_Name_Ratio'}\n",
    "    if not required_columns.issubset(df_filtered.columns):\n",
    "        raise ValueError(\"Filtered DataFrame is missing required columns.\")\n",
    "    \n",
    "    # Check data types\n",
    "    if not pd.api.types.is_numeric_dtype(df_filtered['Gender_Name_Ratio']):\n",
    "        raise TypeError(\"Gender_Name_Ratio should be numeric.\")\n",
    "    \n",
    "    df_prophet = df_filtered[['Year', 'Gender_Name_Ratio']].rename(columns={'Year': 'ds', 'Gender_Name_Ratio': 'y'})\n",
    "    \n",
    "    # Validate the transformed DataFrame\n",
    "    if df_prophet.empty or df_prophet['ds'].isnull().any() or df_prophet['y'].isnull().any():\n",
    "        raise ValueError(\"Prepared DataFrame has null values.\")\n",
    "    \n",
    "    return df_prophet\n",
    "\n",
    "# Validate the preparation for female names\n",
    "for name, data in top_female_prophet_data.items():\n",
    "    try:\n",
    "        prepared_data = prepare_data_for_prophet(data)\n",
    "        print(f\"Data prepared successfully for {name}\")\n",
    "    except (ValueError, TypeError) as e:\n",
    "        print(f\"Validation error for {name}: {e}\")\n",
    "\n",
    "# Validate the preparation for male names\n",
    "for name, data in top_male_prophet_data.items():\n",
    "    try:\n",
    "        prepared_data = prepare_data_for_prophet(data)\n",
    "        print(f\"Data prepared successfully for {name}\")\n",
    "    except (ValueError, TypeError) as e:\n",
    "        print(f\"Validation error for {name}: {e}\")\n"
   ]
  },
  {
   "cell_type": "code",
   "execution_count": null,
   "metadata": {},
   "outputs": [],
   "source": []
  },
  {
   "cell_type": "code",
   "execution_count": null,
   "metadata": {},
   "outputs": [],
   "source": []
  },
  {
   "cell_type": "markdown",
   "metadata": {},
   "source": [
    "### Step 3: Forecast Using Prophet"
   ]
  },
  {
   "cell_type": "code",
   "execution_count": 39,
   "metadata": {},
   "outputs": [
    {
     "name": "stderr",
     "output_type": "stream",
     "text": [
      "08:56:48 - cmdstanpy - INFO - Chain [1] start processing\n",
      "08:56:48 - cmdstanpy - INFO - Chain [1] done processing\n",
      "/Users/yingzhou/anaconda3/envs/timeseries3/lib/python3.12/site-packages/prophet/forecaster.py:1854: FutureWarning: 'Y' is deprecated and will be removed in a future version, please use 'YE' instead.\n",
      "  dates = pd.date_range(\n",
      "08:56:48 - cmdstanpy - INFO - Chain [1] start processing\n",
      "08:56:48 - cmdstanpy - INFO - Chain [1] done processing\n",
      "/Users/yingzhou/anaconda3/envs/timeseries3/lib/python3.12/site-packages/prophet/forecaster.py:1854: FutureWarning: 'Y' is deprecated and will be removed in a future version, please use 'YE' instead.\n",
      "  dates = pd.date_range(\n",
      "08:56:48 - cmdstanpy - INFO - Chain [1] start processing\n",
      "08:56:48 - cmdstanpy - INFO - Chain [1] done processing\n",
      "/Users/yingzhou/anaconda3/envs/timeseries3/lib/python3.12/site-packages/prophet/forecaster.py:1854: FutureWarning: 'Y' is deprecated and will be removed in a future version, please use 'YE' instead.\n",
      "  dates = pd.date_range(\n",
      "08:56:48 - cmdstanpy - INFO - Chain [1] start processing\n",
      "08:56:48 - cmdstanpy - INFO - Chain [1] done processing\n",
      "/Users/yingzhou/anaconda3/envs/timeseries3/lib/python3.12/site-packages/prophet/forecaster.py:1854: FutureWarning: 'Y' is deprecated and will be removed in a future version, please use 'YE' instead.\n",
      "  dates = pd.date_range(\n",
      "08:56:48 - cmdstanpy - INFO - Chain [1] start processing\n",
      "08:56:48 - cmdstanpy - INFO - Chain [1] done processing\n"
     ]
    },
    {
     "name": "stdout",
     "output_type": "stream",
     "text": [
      "Forecasting error for Olivia: No forecast available for the year 2023.\n",
      "Forecasting error for Emma: No forecast available for the year 2023.\n",
      "Forecasting error for Charlotte: No forecast available for the year 2023.\n",
      "Forecasting error for Amelia: No forecast available for the year 2023.\n",
      "Forecasting error for Sophia: No forecast available for the year 2023.\n"
     ]
    },
    {
     "name": "stderr",
     "output_type": "stream",
     "text": [
      "/Users/yingzhou/anaconda3/envs/timeseries3/lib/python3.12/site-packages/prophet/forecaster.py:1854: FutureWarning: 'Y' is deprecated and will be removed in a future version, please use 'YE' instead.\n",
      "  dates = pd.date_range(\n",
      "08:56:48 - cmdstanpy - INFO - Chain [1] start processing\n",
      "08:56:48 - cmdstanpy - INFO - Chain [1] done processing\n",
      "/Users/yingzhou/anaconda3/envs/timeseries3/lib/python3.12/site-packages/prophet/forecaster.py:1854: FutureWarning: 'Y' is deprecated and will be removed in a future version, please use 'YE' instead.\n",
      "  dates = pd.date_range(\n",
      "08:56:48 - cmdstanpy - INFO - Chain [1] start processing\n",
      "08:56:48 - cmdstanpy - INFO - Chain [1] done processing\n",
      "/Users/yingzhou/anaconda3/envs/timeseries3/lib/python3.12/site-packages/prophet/forecaster.py:1854: FutureWarning: 'Y' is deprecated and will be removed in a future version, please use 'YE' instead.\n",
      "  dates = pd.date_range(\n",
      "08:56:48 - cmdstanpy - INFO - Chain [1] start processing\n",
      "08:56:48 - cmdstanpy - INFO - Chain [1] done processing\n",
      "/Users/yingzhou/anaconda3/envs/timeseries3/lib/python3.12/site-packages/prophet/forecaster.py:1854: FutureWarning: 'Y' is deprecated and will be removed in a future version, please use 'YE' instead.\n",
      "  dates = pd.date_range(\n",
      "08:56:48 - cmdstanpy - INFO - Chain [1] start processing\n",
      "08:56:48 - cmdstanpy - INFO - Chain [1] done processing\n",
      "/Users/yingzhou/anaconda3/envs/timeseries3/lib/python3.12/site-packages/prophet/forecaster.py:1854: FutureWarning: 'Y' is deprecated and will be removed in a future version, please use 'YE' instead.\n",
      "  dates = pd.date_range(\n",
      "08:56:48 - cmdstanpy - INFO - Chain [1] start processing\n",
      "08:56:48 - cmdstanpy - INFO - Chain [1] done processing\n",
      "/Users/yingzhou/anaconda3/envs/timeseries3/lib/python3.12/site-packages/prophet/forecaster.py:1854: FutureWarning: 'Y' is deprecated and will be removed in a future version, please use 'YE' instead.\n",
      "  dates = pd.date_range(\n",
      "08:56:48 - cmdstanpy - INFO - Chain [1] start processing\n"
     ]
    },
    {
     "name": "stdout",
     "output_type": "stream",
     "text": [
      "Forecasting error for Isabella: No forecast available for the year 2023.\n",
      "Forecasting error for Ava: No forecast available for the year 2023.\n",
      "Forecasting error for Mia: No forecast available for the year 2023.\n",
      "Forecasting error for Evelyn: No forecast available for the year 2023.\n",
      "Forecasting error for Luna: No forecast available for the year 2023.\n"
     ]
    },
    {
     "name": "stderr",
     "output_type": "stream",
     "text": [
      "08:56:48 - cmdstanpy - INFO - Chain [1] done processing\n",
      "/Users/yingzhou/anaconda3/envs/timeseries3/lib/python3.12/site-packages/prophet/forecaster.py:1854: FutureWarning: 'Y' is deprecated and will be removed in a future version, please use 'YE' instead.\n",
      "  dates = pd.date_range(\n",
      "08:56:48 - cmdstanpy - INFO - Chain [1] start processing\n",
      "08:56:48 - cmdstanpy - INFO - Chain [1] done processing\n",
      "/Users/yingzhou/anaconda3/envs/timeseries3/lib/python3.12/site-packages/prophet/forecaster.py:1854: FutureWarning: 'Y' is deprecated and will be removed in a future version, please use 'YE' instead.\n",
      "  dates = pd.date_range(\n",
      "08:56:49 - cmdstanpy - INFO - Chain [1] start processing\n",
      "08:56:49 - cmdstanpy - INFO - Chain [1] done processing\n",
      "/Users/yingzhou/anaconda3/envs/timeseries3/lib/python3.12/site-packages/prophet/forecaster.py:1854: FutureWarning: 'Y' is deprecated and will be removed in a future version, please use 'YE' instead.\n",
      "  dates = pd.date_range(\n",
      "08:56:49 - cmdstanpy - INFO - Chain [1] start processing\n"
     ]
    },
    {
     "name": "stdout",
     "output_type": "stream",
     "text": [
      "Forecasting error for Harper: No forecast available for the year 2023.\n",
      "Forecasting error for Camila: No forecast available for the year 2023.\n",
      "Forecasting error for Sofia: No forecast available for the year 2023.\n"
     ]
    },
    {
     "name": "stderr",
     "output_type": "stream",
     "text": [
      "08:56:49 - cmdstanpy - INFO - Chain [1] done processing\n",
      "/Users/yingzhou/anaconda3/envs/timeseries3/lib/python3.12/site-packages/prophet/forecaster.py:1854: FutureWarning: 'Y' is deprecated and will be removed in a future version, please use 'YE' instead.\n",
      "  dates = pd.date_range(\n",
      "08:56:49 - cmdstanpy - INFO - Chain [1] start processing\n",
      "08:56:49 - cmdstanpy - INFO - Chain [1] done processing\n",
      "/Users/yingzhou/anaconda3/envs/timeseries3/lib/python3.12/site-packages/prophet/forecaster.py:1854: FutureWarning: 'Y' is deprecated and will be removed in a future version, please use 'YE' instead.\n",
      "  dates = pd.date_range(\n",
      "08:56:49 - cmdstanpy - INFO - Chain [1] start processing\n",
      "08:56:49 - cmdstanpy - INFO - Chain [1] done processing\n",
      "/Users/yingzhou/anaconda3/envs/timeseries3/lib/python3.12/site-packages/prophet/forecaster.py:1854: FutureWarning: 'Y' is deprecated and will be removed in a future version, please use 'YE' instead.\n",
      "  dates = pd.date_range(\n",
      "08:56:49 - cmdstanpy - INFO - Chain [1] start processing\n",
      "08:56:49 - cmdstanpy - INFO - Chain [1] done processing\n",
      "/Users/yingzhou/anaconda3/envs/timeseries3/lib/python3.12/site-packages/prophet/forecaster.py:1854: FutureWarning: 'Y' is deprecated and will be removed in a future version, please use 'YE' instead.\n",
      "  dates = pd.date_range(\n",
      "08:56:49 - cmdstanpy - INFO - Chain [1] start processing\n",
      "08:56:49 - cmdstanpy - INFO - Chain [1] done processing\n",
      "/Users/yingzhou/anaconda3/envs/timeseries3/lib/python3.12/site-packages/prophet/forecaster.py:1854: FutureWarning: 'Y' is deprecated and will be removed in a future version, please use 'YE' instead.\n",
      "  dates = pd.date_range(\n",
      "08:56:49 - cmdstanpy - INFO - Chain [1] start processing\n"
     ]
    },
    {
     "name": "stdout",
     "output_type": "stream",
     "text": [
      "Forecasting error for Scarlett: No forecast available for the year 2023.\n",
      "Forecasting error for Elizabeth: No forecast available for the year 2023.\n",
      "Forecasting error for Eleanor: No forecast available for the year 2023.\n",
      "Forecasting error for Emily: No forecast available for the year 2023.\n",
      "Forecasting error for Mila: No forecast available for the year 2023.\n"
     ]
    },
    {
     "name": "stderr",
     "output_type": "stream",
     "text": [
      "08:56:49 - cmdstanpy - INFO - Chain [1] done processing\n",
      "/Users/yingzhou/anaconda3/envs/timeseries3/lib/python3.12/site-packages/prophet/forecaster.py:1854: FutureWarning: 'Y' is deprecated and will be removed in a future version, please use 'YE' instead.\n",
      "  dates = pd.date_range(\n",
      "08:56:49 - cmdstanpy - INFO - Chain [1] start processing\n",
      "08:56:49 - cmdstanpy - INFO - Chain [1] done processing\n",
      "/Users/yingzhou/anaconda3/envs/timeseries3/lib/python3.12/site-packages/prophet/forecaster.py:1854: FutureWarning: 'Y' is deprecated and will be removed in a future version, please use 'YE' instead.\n",
      "  dates = pd.date_range(\n",
      "08:56:49 - cmdstanpy - INFO - Chain [1] start processing\n",
      "08:56:49 - cmdstanpy - INFO - Chain [1] done processing\n",
      "/Users/yingzhou/anaconda3/envs/timeseries3/lib/python3.12/site-packages/prophet/forecaster.py:1854: FutureWarning: 'Y' is deprecated and will be removed in a future version, please use 'YE' instead.\n",
      "  dates = pd.date_range(\n",
      "08:56:49 - cmdstanpy - INFO - Chain [1] start processing\n"
     ]
    },
    {
     "name": "stdout",
     "output_type": "stream",
     "text": [
      "Forecasting error for Chloe: No forecast available for the year 2023.\n",
      "Forecasting error for Violet: No forecast available for the year 2023.\n",
      "Forecasting error for Penelope: No forecast available for the year 2023.\n"
     ]
    },
    {
     "name": "stderr",
     "output_type": "stream",
     "text": [
      "08:56:49 - cmdstanpy - INFO - Chain [1] done processing\n",
      "/Users/yingzhou/anaconda3/envs/timeseries3/lib/python3.12/site-packages/prophet/forecaster.py:1854: FutureWarning: 'Y' is deprecated and will be removed in a future version, please use 'YE' instead.\n",
      "  dates = pd.date_range(\n",
      "08:56:49 - cmdstanpy - INFO - Chain [1] start processing\n",
      "08:56:49 - cmdstanpy - INFO - Chain [1] done processing\n",
      "/Users/yingzhou/anaconda3/envs/timeseries3/lib/python3.12/site-packages/prophet/forecaster.py:1854: FutureWarning: 'Y' is deprecated and will be removed in a future version, please use 'YE' instead.\n",
      "  dates = pd.date_range(\n",
      "08:56:49 - cmdstanpy - INFO - Chain [1] start processing\n",
      "08:56:49 - cmdstanpy - INFO - Chain [1] done processing\n",
      "/Users/yingzhou/anaconda3/envs/timeseries3/lib/python3.12/site-packages/prophet/forecaster.py:1854: FutureWarning: 'Y' is deprecated and will be removed in a future version, please use 'YE' instead.\n",
      "  dates = pd.date_range(\n",
      "08:56:49 - cmdstanpy - INFO - Chain [1] start processing\n",
      "08:56:49 - cmdstanpy - INFO - Chain [1] done processing\n",
      "/Users/yingzhou/anaconda3/envs/timeseries3/lib/python3.12/site-packages/prophet/forecaster.py:1854: FutureWarning: 'Y' is deprecated and will be removed in a future version, please use 'YE' instead.\n",
      "  dates = pd.date_range(\n",
      "08:56:49 - cmdstanpy - INFO - Chain [1] start processing\n",
      "08:56:49 - cmdstanpy - INFO - Chain [1] done processing\n",
      "/Users/yingzhou/anaconda3/envs/timeseries3/lib/python3.12/site-packages/prophet/forecaster.py:1854: FutureWarning: 'Y' is deprecated and will be removed in a future version, please use 'YE' instead.\n",
      "  dates = pd.date_range(\n",
      "08:56:49 - cmdstanpy - INFO - Chain [1] start processing\n"
     ]
    },
    {
     "name": "stdout",
     "output_type": "stream",
     "text": [
      "Forecasting error for Gianna: No forecast available for the year 2023.\n",
      "Forecasting error for Aria: No forecast available for the year 2023.\n",
      "Forecasting error for Abigail: No forecast available for the year 2023.\n",
      "Forecasting error for Ella: No forecast available for the year 2023.\n",
      "Forecasting error for Avery: No forecast available for the year 2023.\n"
     ]
    },
    {
     "name": "stderr",
     "output_type": "stream",
     "text": [
      "08:56:49 - cmdstanpy - INFO - Chain [1] done processing\n",
      "/Users/yingzhou/anaconda3/envs/timeseries3/lib/python3.12/site-packages/prophet/forecaster.py:1854: FutureWarning: 'Y' is deprecated and will be removed in a future version, please use 'YE' instead.\n",
      "  dates = pd.date_range(\n",
      "08:56:49 - cmdstanpy - INFO - Chain [1] start processing\n",
      "08:56:50 - cmdstanpy - INFO - Chain [1] done processing\n",
      "/Users/yingzhou/anaconda3/envs/timeseries3/lib/python3.12/site-packages/prophet/forecaster.py:1854: FutureWarning: 'Y' is deprecated and will be removed in a future version, please use 'YE' instead.\n",
      "  dates = pd.date_range(\n",
      "08:56:50 - cmdstanpy - INFO - Chain [1] start processing\n",
      "08:56:50 - cmdstanpy - INFO - Chain [1] done processing\n",
      "/Users/yingzhou/anaconda3/envs/timeseries3/lib/python3.12/site-packages/prophet/forecaster.py:1854: FutureWarning: 'Y' is deprecated and will be removed in a future version, please use 'YE' instead.\n",
      "  dates = pd.date_range(\n",
      "08:56:50 - cmdstanpy - INFO - Chain [1] start processing\n"
     ]
    },
    {
     "name": "stdout",
     "output_type": "stream",
     "text": [
      "Forecasting error for Hazel: No forecast available for the year 2023.\n",
      "Forecasting error for Nora: No forecast available for the year 2023.\n",
      "Forecasting error for Layla: No forecast available for the year 2023.\n"
     ]
    },
    {
     "name": "stderr",
     "output_type": "stream",
     "text": [
      "08:56:50 - cmdstanpy - INFO - Chain [1] done processing\n",
      "/Users/yingzhou/anaconda3/envs/timeseries3/lib/python3.12/site-packages/prophet/forecaster.py:1854: FutureWarning: 'Y' is deprecated and will be removed in a future version, please use 'YE' instead.\n",
      "  dates = pd.date_range(\n",
      "08:56:50 - cmdstanpy - INFO - Chain [1] start processing\n",
      "08:56:50 - cmdstanpy - INFO - Chain [1] done processing\n",
      "/Users/yingzhou/anaconda3/envs/timeseries3/lib/python3.12/site-packages/prophet/forecaster.py:1854: FutureWarning: 'Y' is deprecated and will be removed in a future version, please use 'YE' instead.\n",
      "  dates = pd.date_range(\n",
      "08:56:50 - cmdstanpy - INFO - Chain [1] start processing\n",
      "08:56:50 - cmdstanpy - INFO - Chain [1] done processing\n",
      "/Users/yingzhou/anaconda3/envs/timeseries3/lib/python3.12/site-packages/prophet/forecaster.py:1854: FutureWarning: 'Y' is deprecated and will be removed in a future version, please use 'YE' instead.\n",
      "  dates = pd.date_range(\n",
      "08:56:50 - cmdstanpy - INFO - Chain [1] start processing\n",
      "08:56:50 - cmdstanpy - INFO - Chain [1] done processing\n",
      "/Users/yingzhou/anaconda3/envs/timeseries3/lib/python3.12/site-packages/prophet/forecaster.py:1854: FutureWarning: 'Y' is deprecated and will be removed in a future version, please use 'YE' instead.\n",
      "  dates = pd.date_range(\n",
      "08:56:50 - cmdstanpy - INFO - Chain [1] start processing\n",
      "08:56:50 - cmdstanpy - INFO - Chain [1] done processing\n",
      "/Users/yingzhou/anaconda3/envs/timeseries3/lib/python3.12/site-packages/prophet/forecaster.py:1854: FutureWarning: 'Y' is deprecated and will be removed in a future version, please use 'YE' instead.\n",
      "  dates = pd.date_range(\n"
     ]
    },
    {
     "name": "stdout",
     "output_type": "stream",
     "text": [
      "Forecasting error for Lily: No forecast available for the year 2023.\n",
      "Forecasting error for Aurora: No forecast available for the year 2023.\n",
      "Forecasting error for Nova: No forecast available for the year 2023.\n",
      "Forecasting error for Ellie: No forecast available for the year 2023.\n",
      "Forecasting error for Madison: No forecast available for the year 2023.\n"
     ]
    },
    {
     "name": "stderr",
     "output_type": "stream",
     "text": [
      "08:56:50 - cmdstanpy - INFO - Chain [1] start processing\n",
      "08:56:50 - cmdstanpy - INFO - Chain [1] done processing\n",
      "/Users/yingzhou/anaconda3/envs/timeseries3/lib/python3.12/site-packages/prophet/forecaster.py:1854: FutureWarning: 'Y' is deprecated and will be removed in a future version, please use 'YE' instead.\n",
      "  dates = pd.date_range(\n",
      "08:56:50 - cmdstanpy - INFO - Chain [1] start processing\n",
      "08:56:50 - cmdstanpy - INFO - Chain [1] done processing\n",
      "/Users/yingzhou/anaconda3/envs/timeseries3/lib/python3.12/site-packages/prophet/forecaster.py:1854: FutureWarning: 'Y' is deprecated and will be removed in a future version, please use 'YE' instead.\n",
      "  dates = pd.date_range(\n",
      "08:56:50 - cmdstanpy - INFO - Chain [1] start processing\n",
      "08:56:50 - cmdstanpy - INFO - Chain [1] done processing\n",
      "/Users/yingzhou/anaconda3/envs/timeseries3/lib/python3.12/site-packages/prophet/forecaster.py:1854: FutureWarning: 'Y' is deprecated and will be removed in a future version, please use 'YE' instead.\n",
      "  dates = pd.date_range(\n",
      "08:56:50 - cmdstanpy - INFO - Chain [1] start processing\n",
      "08:56:50 - cmdstanpy - INFO - Chain [1] done processing\n",
      "/Users/yingzhou/anaconda3/envs/timeseries3/lib/python3.12/site-packages/prophet/forecaster.py:1854: FutureWarning: 'Y' is deprecated and will be removed in a future version, please use 'YE' instead.\n",
      "  dates = pd.date_range(\n",
      "08:56:50 - cmdstanpy - INFO - Chain [1] start processing\n",
      "08:56:50 - cmdstanpy - INFO - Chain [1] done processing\n",
      "/Users/yingzhou/anaconda3/envs/timeseries3/lib/python3.12/site-packages/prophet/forecaster.py:1854: FutureWarning: 'Y' is deprecated and will be removed in a future version, please use 'YE' instead.\n",
      "  dates = pd.date_range(\n",
      "08:56:50 - cmdstanpy - INFO - Chain [1] start processing\n"
     ]
    },
    {
     "name": "stdout",
     "output_type": "stream",
     "text": [
      "Forecasting error for Isla: No forecast available for the year 2023.\n",
      "Forecasting error for Grace: No forecast available for the year 2023.\n",
      "Forecasting error for Willow: No forecast available for the year 2023.\n",
      "Forecasting error for Zoe: No forecast available for the year 2023.\n",
      "Forecasting error for Riley: No forecast available for the year 2023.\n"
     ]
    },
    {
     "name": "stderr",
     "output_type": "stream",
     "text": [
      "08:56:50 - cmdstanpy - INFO - Chain [1] done processing\n",
      "/Users/yingzhou/anaconda3/envs/timeseries3/lib/python3.12/site-packages/prophet/forecaster.py:1854: FutureWarning: 'Y' is deprecated and will be removed in a future version, please use 'YE' instead.\n",
      "  dates = pd.date_range(\n",
      "08:56:50 - cmdstanpy - INFO - Chain [1] start processing\n",
      "08:56:50 - cmdstanpy - INFO - Chain [1] done processing\n",
      "/Users/yingzhou/anaconda3/envs/timeseries3/lib/python3.12/site-packages/prophet/forecaster.py:1854: FutureWarning: 'Y' is deprecated and will be removed in a future version, please use 'YE' instead.\n",
      "  dates = pd.date_range(\n",
      "08:56:50 - cmdstanpy - INFO - Chain [1] start processing\n",
      "08:56:50 - cmdstanpy - INFO - Chain [1] done processing\n"
     ]
    },
    {
     "name": "stdout",
     "output_type": "stream",
     "text": [
      "Forecasting error for Stella: No forecast available for the year 2023.\n",
      "Forecasting error for Ivy: No forecast available for the year 2023.\n"
     ]
    },
    {
     "name": "stderr",
     "output_type": "stream",
     "text": [
      "/Users/yingzhou/anaconda3/envs/timeseries3/lib/python3.12/site-packages/prophet/forecaster.py:1854: FutureWarning: 'Y' is deprecated and will be removed in a future version, please use 'YE' instead.\n",
      "  dates = pd.date_range(\n",
      "08:56:50 - cmdstanpy - INFO - Chain [1] start processing\n",
      "08:56:50 - cmdstanpy - INFO - Chain [1] done processing\n",
      "/Users/yingzhou/anaconda3/envs/timeseries3/lib/python3.12/site-packages/prophet/forecaster.py:1854: FutureWarning: 'Y' is deprecated and will be removed in a future version, please use 'YE' instead.\n",
      "  dates = pd.date_range(\n",
      "08:56:50 - cmdstanpy - INFO - Chain [1] start processing\n",
      "08:56:50 - cmdstanpy - INFO - Chain [1] done processing\n",
      "/Users/yingzhou/anaconda3/envs/timeseries3/lib/python3.12/site-packages/prophet/forecaster.py:1854: FutureWarning: 'Y' is deprecated and will be removed in a future version, please use 'YE' instead.\n",
      "  dates = pd.date_range(\n",
      "08:56:50 - cmdstanpy - INFO - Chain [1] start processing\n",
      "08:56:51 - cmdstanpy - INFO - Chain [1] done processing\n"
     ]
    },
    {
     "name": "stdout",
     "output_type": "stream",
     "text": [
      "Forecasting error for Eliana: No forecast available for the year 2023.\n",
      "Forecasting error for Victoria: No forecast available for the year 2023.\n",
      "Forecasting error for Emilia: No forecast available for the year 2023.\n"
     ]
    },
    {
     "name": "stderr",
     "output_type": "stream",
     "text": [
      "/Users/yingzhou/anaconda3/envs/timeseries3/lib/python3.12/site-packages/prophet/forecaster.py:1854: FutureWarning: 'Y' is deprecated and will be removed in a future version, please use 'YE' instead.\n",
      "  dates = pd.date_range(\n",
      "08:56:51 - cmdstanpy - INFO - Chain [1] start processing\n",
      "08:56:51 - cmdstanpy - INFO - Chain [1] done processing\n",
      "/Users/yingzhou/anaconda3/envs/timeseries3/lib/python3.12/site-packages/prophet/forecaster.py:1854: FutureWarning: 'Y' is deprecated and will be removed in a future version, please use 'YE' instead.\n",
      "  dates = pd.date_range(\n",
      "08:56:51 - cmdstanpy - INFO - Chain [1] start processing\n",
      "08:56:51 - cmdstanpy - INFO - Chain [1] done processing\n",
      "/Users/yingzhou/anaconda3/envs/timeseries3/lib/python3.12/site-packages/prophet/forecaster.py:1854: FutureWarning: 'Y' is deprecated and will be removed in a future version, please use 'YE' instead.\n",
      "  dates = pd.date_range(\n",
      "08:56:51 - cmdstanpy - INFO - Chain [1] start processing\n",
      "08:56:51 - cmdstanpy - INFO - Chain [1] done processing\n",
      "/Users/yingzhou/anaconda3/envs/timeseries3/lib/python3.12/site-packages/prophet/forecaster.py:1854: FutureWarning: 'Y' is deprecated and will be removed in a future version, please use 'YE' instead.\n",
      "  dates = pd.date_range(\n",
      "08:56:51 - cmdstanpy - INFO - Chain [1] start processing\n",
      "08:56:51 - cmdstanpy - INFO - Chain [1] done processing\n",
      "/Users/yingzhou/anaconda3/envs/timeseries3/lib/python3.12/site-packages/prophet/forecaster.py:1854: FutureWarning: 'Y' is deprecated and will be removed in a future version, please use 'YE' instead.\n",
      "  dates = pd.date_range(\n",
      "08:56:51 - cmdstanpy - INFO - Chain [1] start processing\n"
     ]
    },
    {
     "name": "stdout",
     "output_type": "stream",
     "text": [
      "Forecasting error for Zoey: No forecast available for the year 2023.\n",
      "Forecasting error for Naomi: No forecast available for the year 2023.\n",
      "Forecasting error for Hannah: No forecast available for the year 2023.\n",
      "Forecasting error for Lucy: No forecast available for the year 2023.\n",
      "Forecasting error for Elena: No forecast available for the year 2023.\n"
     ]
    },
    {
     "name": "stderr",
     "output_type": "stream",
     "text": [
      "08:56:51 - cmdstanpy - INFO - Chain [1] done processing\n",
      "/Users/yingzhou/anaconda3/envs/timeseries3/lib/python3.12/site-packages/prophet/forecaster.py:1854: FutureWarning: 'Y' is deprecated and will be removed in a future version, please use 'YE' instead.\n",
      "  dates = pd.date_range(\n",
      "08:56:51 - cmdstanpy - INFO - Chain [1] start processing\n",
      "08:56:51 - cmdstanpy - INFO - Chain [1] done processing\n",
      "/Users/yingzhou/anaconda3/envs/timeseries3/lib/python3.12/site-packages/prophet/forecaster.py:1854: FutureWarning: 'Y' is deprecated and will be removed in a future version, please use 'YE' instead.\n",
      "  dates = pd.date_range(\n",
      "08:56:51 - cmdstanpy - INFO - Chain [1] start processing\n",
      "08:56:51 - cmdstanpy - INFO - Chain [1] done processing\n",
      "/Users/yingzhou/anaconda3/envs/timeseries3/lib/python3.12/site-packages/prophet/forecaster.py:1854: FutureWarning: 'Y' is deprecated and will be removed in a future version, please use 'YE' instead.\n",
      "  dates = pd.date_range(\n",
      "08:56:51 - cmdstanpy - INFO - Chain [1] start processing\n",
      "08:56:51 - cmdstanpy - INFO - Chain [1] done processing\n"
     ]
    },
    {
     "name": "stdout",
     "output_type": "stream",
     "text": [
      "Forecasting error for Lillian: No forecast available for the year 2023.\n",
      "Forecasting error for Maya: No forecast available for the year 2023.\n",
      "Forecasting error for Leah: No forecast available for the year 2023.\n"
     ]
    },
    {
     "name": "stderr",
     "output_type": "stream",
     "text": [
      "/Users/yingzhou/anaconda3/envs/timeseries3/lib/python3.12/site-packages/prophet/forecaster.py:1854: FutureWarning: 'Y' is deprecated and will be removed in a future version, please use 'YE' instead.\n",
      "  dates = pd.date_range(\n",
      "08:56:51 - cmdstanpy - INFO - Chain [1] start processing\n",
      "08:56:51 - cmdstanpy - INFO - Chain [1] done processing\n",
      "/Users/yingzhou/anaconda3/envs/timeseries3/lib/python3.12/site-packages/prophet/forecaster.py:1854: FutureWarning: 'Y' is deprecated and will be removed in a future version, please use 'YE' instead.\n",
      "  dates = pd.date_range(\n",
      "08:56:51 - cmdstanpy - INFO - Chain [1] start processing\n",
      "08:56:51 - cmdstanpy - INFO - Chain [1] done processing\n",
      "/Users/yingzhou/anaconda3/envs/timeseries3/lib/python3.12/site-packages/prophet/forecaster.py:1854: FutureWarning: 'Y' is deprecated and will be removed in a future version, please use 'YE' instead.\n",
      "  dates = pd.date_range(\n",
      "08:56:51 - cmdstanpy - INFO - Chain [1] start processing\n",
      "08:56:51 - cmdstanpy - INFO - Chain [1] done processing\n",
      "/Users/yingzhou/anaconda3/envs/timeseries3/lib/python3.12/site-packages/prophet/forecaster.py:1854: FutureWarning: 'Y' is deprecated and will be removed in a future version, please use 'YE' instead.\n",
      "  dates = pd.date_range(\n",
      "08:56:51 - cmdstanpy - INFO - Chain [1] start processing\n",
      "08:56:51 - cmdstanpy - INFO - Chain [1] done processing\n"
     ]
    },
    {
     "name": "stdout",
     "output_type": "stream",
     "text": [
      "Forecasting error for Paisley: No forecast available for the year 2023.\n",
      "Forecasting error for Addison: No forecast available for the year 2023.\n",
      "Forecasting error for Natalie: No forecast available for the year 2023.\n",
      "Forecasting error for Everly: No forecast available for the year 2023.\n"
     ]
    },
    {
     "name": "stderr",
     "output_type": "stream",
     "text": [
      "/Users/yingzhou/anaconda3/envs/timeseries3/lib/python3.12/site-packages/prophet/forecaster.py:1854: FutureWarning: 'Y' is deprecated and will be removed in a future version, please use 'YE' instead.\n",
      "  dates = pd.date_range(\n",
      "08:56:51 - cmdstanpy - INFO - Chain [1] start processing\n",
      "08:56:51 - cmdstanpy - INFO - Chain [1] done processing\n",
      "/Users/yingzhou/anaconda3/envs/timeseries3/lib/python3.12/site-packages/prophet/forecaster.py:1854: FutureWarning: 'Y' is deprecated and will be removed in a future version, please use 'YE' instead.\n",
      "  dates = pd.date_range(\n",
      "08:56:51 - cmdstanpy - INFO - Chain [1] start processing\n",
      "08:56:51 - cmdstanpy - INFO - Chain [1] done processing\n",
      "/Users/yingzhou/anaconda3/envs/timeseries3/lib/python3.12/site-packages/prophet/forecaster.py:1854: FutureWarning: 'Y' is deprecated and will be removed in a future version, please use 'YE' instead.\n",
      "  dates = pd.date_range(\n",
      "08:56:51 - cmdstanpy - INFO - Chain [1] start processing\n",
      "08:56:51 - cmdstanpy - INFO - Chain [1] done processing\n",
      "/Users/yingzhou/anaconda3/envs/timeseries3/lib/python3.12/site-packages/prophet/forecaster.py:1854: FutureWarning: 'Y' is deprecated and will be removed in a future version, please use 'YE' instead.\n",
      "  dates = pd.date_range(\n",
      "08:56:51 - cmdstanpy - INFO - Chain [1] start processing\n"
     ]
    },
    {
     "name": "stdout",
     "output_type": "stream",
     "text": [
      "Forecasting error for Valentina: No forecast available for the year 2023.\n",
      "Forecasting error for Delilah: No forecast available for the year 2023.\n",
      "Forecasting error for Leilani: No forecast available for the year 2023.\n",
      "Forecasting error for Madelyn: No forecast available for the year 2023.\n"
     ]
    },
    {
     "name": "stderr",
     "output_type": "stream",
     "text": [
      "08:56:52 - cmdstanpy - INFO - Chain [1] done processing\n",
      "/Users/yingzhou/anaconda3/envs/timeseries3/lib/python3.12/site-packages/prophet/forecaster.py:1854: FutureWarning: 'Y' is deprecated and will be removed in a future version, please use 'YE' instead.\n",
      "  dates = pd.date_range(\n",
      "08:56:52 - cmdstanpy - INFO - Chain [1] start processing\n",
      "08:56:52 - cmdstanpy - INFO - Chain [1] done processing\n",
      "/Users/yingzhou/anaconda3/envs/timeseries3/lib/python3.12/site-packages/prophet/forecaster.py:1854: FutureWarning: 'Y' is deprecated and will be removed in a future version, please use 'YE' instead.\n",
      "  dates = pd.date_range(\n",
      "08:56:52 - cmdstanpy - INFO - Chain [1] start processing\n",
      "08:56:52 - cmdstanpy - INFO - Chain [1] done processing\n",
      "/Users/yingzhou/anaconda3/envs/timeseries3/lib/python3.12/site-packages/prophet/forecaster.py:1854: FutureWarning: 'Y' is deprecated and will be removed in a future version, please use 'YE' instead.\n",
      "  dates = pd.date_range(\n",
      "08:56:52 - cmdstanpy - INFO - Chain [1] start processing\n",
      "08:56:52 - cmdstanpy - INFO - Chain [1] done processing\n",
      "/Users/yingzhou/anaconda3/envs/timeseries3/lib/python3.12/site-packages/prophet/forecaster.py:1854: FutureWarning: 'Y' is deprecated and will be removed in a future version, please use 'YE' instead.\n",
      "  dates = pd.date_range(\n",
      "08:56:52 - cmdstanpy - INFO - Chain [1] start processing\n",
      "08:56:52 - cmdstanpy - INFO - Chain [1] done processing\n",
      "/Users/yingzhou/anaconda3/envs/timeseries3/lib/python3.12/site-packages/prophet/forecaster.py:1854: FutureWarning: 'Y' is deprecated and will be removed in a future version, please use 'YE' instead.\n",
      "  dates = pd.date_range(\n",
      "08:56:52 - cmdstanpy - INFO - Chain [1] start processing\n"
     ]
    },
    {
     "name": "stdout",
     "output_type": "stream",
     "text": [
      "Forecasting error for Kinsley: No forecast available for the year 2023.\n",
      "Forecasting error for Ruby: No forecast available for the year 2023.\n",
      "Forecasting error for Sophie: No forecast available for the year 2023.\n",
      "Forecasting error for Alice: No forecast available for the year 2023.\n",
      "Forecasting error for Genesis: No forecast available for the year 2023.\n"
     ]
    },
    {
     "name": "stderr",
     "output_type": "stream",
     "text": [
      "08:56:52 - cmdstanpy - INFO - Chain [1] done processing\n",
      "/Users/yingzhou/anaconda3/envs/timeseries3/lib/python3.12/site-packages/prophet/forecaster.py:1854: FutureWarning: 'Y' is deprecated and will be removed in a future version, please use 'YE' instead.\n",
      "  dates = pd.date_range(\n",
      "08:56:52 - cmdstanpy - INFO - Chain [1] start processing\n",
      "08:56:52 - cmdstanpy - INFO - Chain [1] done processing\n",
      "/Users/yingzhou/anaconda3/envs/timeseries3/lib/python3.12/site-packages/prophet/forecaster.py:1854: FutureWarning: 'Y' is deprecated and will be removed in a future version, please use 'YE' instead.\n",
      "  dates = pd.date_range(\n",
      "08:56:52 - cmdstanpy - INFO - Chain [1] start processing\n",
      "08:56:52 - cmdstanpy - INFO - Chain [1] done processing\n",
      "/Users/yingzhou/anaconda3/envs/timeseries3/lib/python3.12/site-packages/prophet/forecaster.py:1854: FutureWarning: 'Y' is deprecated and will be removed in a future version, please use 'YE' instead.\n",
      "  dates = pd.date_range(\n",
      "08:56:52 - cmdstanpy - INFO - Chain [1] start processing\n"
     ]
    },
    {
     "name": "stdout",
     "output_type": "stream",
     "text": [
      "Forecasting error for Claire: No forecast available for the year 2023.\n",
      "Forecasting error for Audrey: No forecast available for the year 2023.\n",
      "Forecasting error for Sadie: No forecast available for the year 2023.\n"
     ]
    },
    {
     "name": "stderr",
     "output_type": "stream",
     "text": [
      "08:56:52 - cmdstanpy - INFO - Chain [1] done processing\n",
      "/Users/yingzhou/anaconda3/envs/timeseries3/lib/python3.12/site-packages/prophet/forecaster.py:1854: FutureWarning: 'Y' is deprecated and will be removed in a future version, please use 'YE' instead.\n",
      "  dates = pd.date_range(\n",
      "08:56:52 - cmdstanpy - INFO - Chain [1] start processing\n",
      "08:56:52 - cmdstanpy - INFO - Chain [1] done processing\n",
      "/Users/yingzhou/anaconda3/envs/timeseries3/lib/python3.12/site-packages/prophet/forecaster.py:1854: FutureWarning: 'Y' is deprecated and will be removed in a future version, please use 'YE' instead.\n",
      "  dates = pd.date_range(\n",
      "08:56:52 - cmdstanpy - INFO - Chain [1] start processing\n",
      "08:56:52 - cmdstanpy - INFO - Chain [1] done processing\n",
      "/Users/yingzhou/anaconda3/envs/timeseries3/lib/python3.12/site-packages/prophet/forecaster.py:1854: FutureWarning: 'Y' is deprecated and will be removed in a future version, please use 'YE' instead.\n",
      "  dates = pd.date_range(\n",
      "08:56:52 - cmdstanpy - INFO - Chain [1] start processing\n"
     ]
    },
    {
     "name": "stdout",
     "output_type": "stream",
     "text": [
      "Forecasting error for Aaliyah: No forecast available for the year 2023.\n",
      "Forecasting error for Josephine: No forecast available for the year 2023.\n",
      "Forecasting error for Autumn: No forecast available for the year 2023.\n"
     ]
    },
    {
     "name": "stderr",
     "output_type": "stream",
     "text": [
      "08:56:52 - cmdstanpy - INFO - Chain [1] done processing\n",
      "/Users/yingzhou/anaconda3/envs/timeseries3/lib/python3.12/site-packages/prophet/forecaster.py:1854: FutureWarning: 'Y' is deprecated and will be removed in a future version, please use 'YE' instead.\n",
      "  dates = pd.date_range(\n",
      "08:56:52 - cmdstanpy - INFO - Chain [1] start processing\n",
      "08:56:52 - cmdstanpy - INFO - Chain [1] done processing\n",
      "/Users/yingzhou/anaconda3/envs/timeseries3/lib/python3.12/site-packages/prophet/forecaster.py:1854: FutureWarning: 'Y' is deprecated and will be removed in a future version, please use 'YE' instead.\n",
      "  dates = pd.date_range(\n",
      "08:56:52 - cmdstanpy - INFO - Chain [1] start processing\n",
      "08:56:52 - cmdstanpy - INFO - Chain [1] done processing\n",
      "/Users/yingzhou/anaconda3/envs/timeseries3/lib/python3.12/site-packages/prophet/forecaster.py:1854: FutureWarning: 'Y' is deprecated and will be removed in a future version, please use 'YE' instead.\n",
      "  dates = pd.date_range(\n",
      "08:56:52 - cmdstanpy - INFO - Chain [1] start processing\n",
      "08:56:52 - cmdstanpy - INFO - Chain [1] done processing\n",
      "/Users/yingzhou/anaconda3/envs/timeseries3/lib/python3.12/site-packages/prophet/forecaster.py:1854: FutureWarning: 'Y' is deprecated and will be removed in a future version, please use 'YE' instead.\n",
      "  dates = pd.date_range(\n",
      "08:56:52 - cmdstanpy - INFO - Chain [1] start processing\n",
      "08:56:52 - cmdstanpy - INFO - Chain [1] done processing\n",
      "/Users/yingzhou/anaconda3/envs/timeseries3/lib/python3.12/site-packages/prophet/forecaster.py:1854: FutureWarning: 'Y' is deprecated and will be removed in a future version, please use 'YE' instead.\n",
      "  dates = pd.date_range(\n",
      "08:56:52 - cmdstanpy - INFO - Chain [1] start processing\n"
     ]
    },
    {
     "name": "stdout",
     "output_type": "stream",
     "text": [
      "Forecasting error for Brooklyn: No forecast available for the year 2023.\n",
      "Forecasting error for Quinn: No forecast available for the year 2023.\n",
      "Forecasting error for Kennedy: No forecast available for the year 2023.\n",
      "Forecasting error for Cora: No forecast available for the year 2023.\n",
      "Forecasting error for Savannah: No forecast available for the year 2023.\n"
     ]
    },
    {
     "name": "stderr",
     "output_type": "stream",
     "text": [
      "08:56:52 - cmdstanpy - INFO - Chain [1] done processing\n",
      "/Users/yingzhou/anaconda3/envs/timeseries3/lib/python3.12/site-packages/prophet/forecaster.py:1854: FutureWarning: 'Y' is deprecated and will be removed in a future version, please use 'YE' instead.\n",
      "  dates = pd.date_range(\n",
      "08:56:52 - cmdstanpy - INFO - Chain [1] start processing\n",
      "08:56:52 - cmdstanpy - INFO - Chain [1] done processing\n",
      "/Users/yingzhou/anaconda3/envs/timeseries3/lib/python3.12/site-packages/prophet/forecaster.py:1854: FutureWarning: 'Y' is deprecated and will be removed in a future version, please use 'YE' instead.\n",
      "  dates = pd.date_range(\n",
      "08:56:53 - cmdstanpy - INFO - Chain [1] start processing\n",
      "08:56:53 - cmdstanpy - INFO - Chain [1] done processing\n",
      "/Users/yingzhou/anaconda3/envs/timeseries3/lib/python3.12/site-packages/prophet/forecaster.py:1854: FutureWarning: 'Y' is deprecated and will be removed in a future version, please use 'YE' instead.\n",
      "  dates = pd.date_range(\n",
      "08:56:53 - cmdstanpy - INFO - Chain [1] start processing\n",
      "08:56:53 - cmdstanpy - INFO - Chain [1] done processing\n"
     ]
    },
    {
     "name": "stdout",
     "output_type": "stream",
     "text": [
      "Forecasting error for Caroline: No forecast available for the year 2023.\n",
      "Forecasting error for Athena: No forecast available for the year 2023.\n",
      "Forecasting error for Natalia: No forecast available for the year 2023.\n",
      "Forecasting error for Hailey: No forecast available for the year 2023.\n"
     ]
    },
    {
     "name": "stderr",
     "output_type": "stream",
     "text": [
      "/Users/yingzhou/anaconda3/envs/timeseries3/lib/python3.12/site-packages/prophet/forecaster.py:1854: FutureWarning: 'Y' is deprecated and will be removed in a future version, please use 'YE' instead.\n",
      "  dates = pd.date_range(\n",
      "08:56:53 - cmdstanpy - INFO - Chain [1] start processing\n",
      "08:56:53 - cmdstanpy - INFO - Chain [1] done processing\n",
      "/Users/yingzhou/anaconda3/envs/timeseries3/lib/python3.12/site-packages/prophet/forecaster.py:1854: FutureWarning: 'Y' is deprecated and will be removed in a future version, please use 'YE' instead.\n",
      "  dates = pd.date_range(\n",
      "08:56:53 - cmdstanpy - INFO - Chain [1] start processing\n",
      "08:56:53 - cmdstanpy - INFO - Chain [1] done processing\n",
      "/Users/yingzhou/anaconda3/envs/timeseries3/lib/python3.12/site-packages/prophet/forecaster.py:1854: FutureWarning: 'Y' is deprecated and will be removed in a future version, please use 'YE' instead.\n",
      "  dates = pd.date_range(\n",
      "08:56:53 - cmdstanpy - INFO - Chain [1] start processing\n",
      "08:56:53 - cmdstanpy - INFO - Chain [1] done processing\n",
      "/Users/yingzhou/anaconda3/envs/timeseries3/lib/python3.12/site-packages/prophet/forecaster.py:1854: FutureWarning: 'Y' is deprecated and will be removed in a future version, please use 'YE' instead.\n",
      "  dates = pd.date_range(\n",
      "08:56:53 - cmdstanpy - INFO - Chain [1] start processing\n",
      "08:56:53 - cmdstanpy - INFO - Chain [1] done processing\n",
      "/Users/yingzhou/anaconda3/envs/timeseries3/lib/python3.12/site-packages/prophet/forecaster.py:1854: FutureWarning: 'Y' is deprecated and will be removed in a future version, please use 'YE' instead.\n",
      "  dates = pd.date_range(\n",
      "08:56:53 - cmdstanpy - INFO - Chain [1] start processing\n",
      "08:56:53 - cmdstanpy - INFO - Chain [1] done processing\n",
      "/Users/yingzhou/anaconda3/envs/timeseries3/lib/python3.12/site-packages/prophet/forecaster.py:1854: FutureWarning: 'Y' is deprecated and will be removed in a future version, please use 'YE' instead.\n",
      "  dates = pd.date_range(\n",
      "08:56:53 - cmdstanpy - INFO - Chain [1] start processing\n"
     ]
    },
    {
     "name": "stdout",
     "output_type": "stream",
     "text": [
      "Forecasting error for Aubrey: No forecast available for the year 2023.\n",
      "Forecasting error for Emery: No forecast available for the year 2023.\n",
      "Forecasting error for Anna: No forecast available for the year 2023.\n",
      "Forecasting error for Iris: No forecast available for the year 2023.\n",
      "Forecasting error for Bella: No forecast available for the year 2023.\n"
     ]
    },
    {
     "name": "stderr",
     "output_type": "stream",
     "text": [
      "08:56:53 - cmdstanpy - INFO - Chain [1] done processing\n",
      "/Users/yingzhou/anaconda3/envs/timeseries3/lib/python3.12/site-packages/prophet/forecaster.py:1854: FutureWarning: 'Y' is deprecated and will be removed in a future version, please use 'YE' instead.\n",
      "  dates = pd.date_range(\n",
      "08:56:53 - cmdstanpy - INFO - Chain [1] start processing\n",
      "08:56:53 - cmdstanpy - INFO - Chain [1] done processing\n",
      "/Users/yingzhou/anaconda3/envs/timeseries3/lib/python3.12/site-packages/prophet/forecaster.py:1854: FutureWarning: 'Y' is deprecated and will be removed in a future version, please use 'YE' instead.\n",
      "  dates = pd.date_range(\n",
      "08:56:53 - cmdstanpy - INFO - Chain [1] start processing\n",
      "08:56:53 - cmdstanpy - INFO - Chain [1] done processing\n",
      "/Users/yingzhou/anaconda3/envs/timeseries3/lib/python3.12/site-packages/prophet/forecaster.py:1854: FutureWarning: 'Y' is deprecated and will be removed in a future version, please use 'YE' instead.\n",
      "  dates = pd.date_range(\n",
      "08:56:53 - cmdstanpy - INFO - Chain [1] start processing\n",
      "08:56:53 - cmdstanpy - INFO - Chain [1] done processing\n",
      "/Users/yingzhou/anaconda3/envs/timeseries3/lib/python3.12/site-packages/prophet/forecaster.py:1854: FutureWarning: 'Y' is deprecated and will be removed in a future version, please use 'YE' instead.\n",
      "  dates = pd.date_range(\n",
      "08:56:53 - cmdstanpy - INFO - Chain [1] start processing\n"
     ]
    },
    {
     "name": "stdout",
     "output_type": "stream",
     "text": [
      "Forecasting error for Eloise: No forecast available for the year 2023.\n",
      "Forecasting error for Skylar: No forecast available for the year 2023.\n",
      "Forecasting error for Jade: No forecast available for the year 2023.\n",
      "Forecasting error for Gabriella: No forecast available for the year 2023.\n"
     ]
    },
    {
     "name": "stderr",
     "output_type": "stream",
     "text": [
      "08:56:53 - cmdstanpy - INFO - Chain [1] done processing\n",
      "/Users/yingzhou/anaconda3/envs/timeseries3/lib/python3.12/site-packages/prophet/forecaster.py:1854: FutureWarning: 'Y' is deprecated and will be removed in a future version, please use 'YE' instead.\n",
      "  dates = pd.date_range(\n",
      "08:56:53 - cmdstanpy - INFO - Chain [1] start processing\n",
      "08:56:53 - cmdstanpy - INFO - Chain [1] done processing\n",
      "/Users/yingzhou/anaconda3/envs/timeseries3/lib/python3.12/site-packages/prophet/forecaster.py:1854: FutureWarning: 'Y' is deprecated and will be removed in a future version, please use 'YE' instead.\n",
      "  dates = pd.date_range(\n",
      "08:56:53 - cmdstanpy - INFO - Chain [1] start processing\n",
      "08:56:53 - cmdstanpy - INFO - Chain [1] done processing\n",
      "/Users/yingzhou/anaconda3/envs/timeseries3/lib/python3.12/site-packages/prophet/forecaster.py:1854: FutureWarning: 'Y' is deprecated and will be removed in a future version, please use 'YE' instead.\n",
      "  dates = pd.date_range(\n",
      "08:56:53 - cmdstanpy - INFO - Chain [1] start processing\n",
      "08:56:53 - cmdstanpy - INFO - Chain [1] done processing\n",
      "/Users/yingzhou/anaconda3/envs/timeseries3/lib/python3.12/site-packages/prophet/forecaster.py:1854: FutureWarning: 'Y' is deprecated and will be removed in a future version, please use 'YE' instead.\n",
      "  dates = pd.date_range(\n",
      "08:56:53 - cmdstanpy - INFO - Chain [1] start processing\n"
     ]
    },
    {
     "name": "stdout",
     "output_type": "stream",
     "text": [
      "Forecasting error for Ariana: No forecast available for the year 2023.\n",
      "Forecasting error for Maria: No forecast available for the year 2023.\n",
      "Forecasting error for Adeline: No forecast available for the year 2023.\n",
      "Forecasting error for Lydia: No forecast available for the year 2023.\n"
     ]
    },
    {
     "name": "stderr",
     "output_type": "stream",
     "text": [
      "08:56:53 - cmdstanpy - INFO - Chain [1] done processing\n",
      "/Users/yingzhou/anaconda3/envs/timeseries3/lib/python3.12/site-packages/prophet/forecaster.py:1854: FutureWarning: 'Y' is deprecated and will be removed in a future version, please use 'YE' instead.\n",
      "  dates = pd.date_range(\n",
      "08:56:53 - cmdstanpy - INFO - Chain [1] start processing\n",
      "08:56:53 - cmdstanpy - INFO - Chain [1] done processing\n",
      "/Users/yingzhou/anaconda3/envs/timeseries3/lib/python3.12/site-packages/prophet/forecaster.py:1854: FutureWarning: 'Y' is deprecated and will be removed in a future version, please use 'YE' instead.\n",
      "  dates = pd.date_range(\n",
      "08:56:53 - cmdstanpy - INFO - Chain [1] start processing\n",
      "08:56:54 - cmdstanpy - INFO - Chain [1] done processing\n",
      "/Users/yingzhou/anaconda3/envs/timeseries3/lib/python3.12/site-packages/prophet/forecaster.py:1854: FutureWarning: 'Y' is deprecated and will be removed in a future version, please use 'YE' instead.\n",
      "  dates = pd.date_range(\n",
      "08:56:54 - cmdstanpy - INFO - Chain [1] start processing\n"
     ]
    },
    {
     "name": "stdout",
     "output_type": "stream",
     "text": [
      "Forecasting error for Nevaeh: No forecast available for the year 2023.\n",
      "Forecasting error for Sarah: No forecast available for the year 2023.\n",
      "Forecasting error for Serenity: No forecast available for the year 2023.\n"
     ]
    },
    {
     "name": "stderr",
     "output_type": "stream",
     "text": [
      "08:56:54 - cmdstanpy - INFO - Chain [1] done processing\n",
      "/Users/yingzhou/anaconda3/envs/timeseries3/lib/python3.12/site-packages/prophet/forecaster.py:1854: FutureWarning: 'Y' is deprecated and will be removed in a future version, please use 'YE' instead.\n",
      "  dates = pd.date_range(\n",
      "08:56:54 - cmdstanpy - INFO - Chain [1] start processing\n",
      "08:56:54 - cmdstanpy - INFO - Chain [1] done processing\n",
      "/Users/yingzhou/anaconda3/envs/timeseries3/lib/python3.12/site-packages/prophet/forecaster.py:1854: FutureWarning: 'Y' is deprecated and will be removed in a future version, please use 'YE' instead.\n",
      "  dates = pd.date_range(\n",
      "08:56:54 - cmdstanpy - INFO - Chain [1] start processing\n"
     ]
    },
    {
     "name": "stdout",
     "output_type": "stream",
     "text": [
      "Forecasting error for Liliana: No forecast available for the year 2023.\n",
      "Forecasting error for Ayla: No forecast available for the year 2023.\n"
     ]
    },
    {
     "name": "stderr",
     "output_type": "stream",
     "text": [
      "08:56:54 - cmdstanpy - INFO - Chain [1] done processing\n",
      "/Users/yingzhou/anaconda3/envs/timeseries3/lib/python3.12/site-packages/prophet/forecaster.py:1854: FutureWarning: 'Y' is deprecated and will be removed in a future version, please use 'YE' instead.\n",
      "  dates = pd.date_range(\n",
      "08:56:54 - cmdstanpy - INFO - Chain [1] start processing\n",
      "08:56:54 - cmdstanpy - INFO - Chain [1] done processing\n",
      "/Users/yingzhou/anaconda3/envs/timeseries3/lib/python3.12/site-packages/prophet/forecaster.py:1854: FutureWarning: 'Y' is deprecated and will be removed in a future version, please use 'YE' instead.\n",
      "  dates = pd.date_range(\n",
      "08:56:54 - cmdstanpy - INFO - Chain [1] start processing\n",
      "08:56:54 - cmdstanpy - INFO - Chain [1] done processing\n",
      "/Users/yingzhou/anaconda3/envs/timeseries3/lib/python3.12/site-packages/prophet/forecaster.py:1854: FutureWarning: 'Y' is deprecated and will be removed in a future version, please use 'YE' instead.\n",
      "  dates = pd.date_range(\n",
      "08:56:54 - cmdstanpy - INFO - Chain [1] start processing\n",
      "08:56:54 - cmdstanpy - INFO - Chain [1] done processing\n"
     ]
    },
    {
     "name": "stdout",
     "output_type": "stream",
     "text": [
      "Forecasting error for Raelynn: No forecast available for the year 2023.\n",
      "Forecasting error for Everleigh: No forecast available for the year 2023.\n",
      "Forecasting error for Liam: No forecast available for the year 2023.\n"
     ]
    },
    {
     "name": "stderr",
     "output_type": "stream",
     "text": [
      "/Users/yingzhou/anaconda3/envs/timeseries3/lib/python3.12/site-packages/prophet/forecaster.py:1854: FutureWarning: 'Y' is deprecated and will be removed in a future version, please use 'YE' instead.\n",
      "  dates = pd.date_range(\n",
      "08:56:54 - cmdstanpy - INFO - Chain [1] start processing\n",
      "08:56:54 - cmdstanpy - INFO - Chain [1] done processing\n",
      "/Users/yingzhou/anaconda3/envs/timeseries3/lib/python3.12/site-packages/prophet/forecaster.py:1854: FutureWarning: 'Y' is deprecated and will be removed in a future version, please use 'YE' instead.\n",
      "  dates = pd.date_range(\n",
      "08:56:54 - cmdstanpy - INFO - Chain [1] start processing\n",
      "08:56:54 - cmdstanpy - INFO - Chain [1] done processing\n",
      "/Users/yingzhou/anaconda3/envs/timeseries3/lib/python3.12/site-packages/prophet/forecaster.py:1854: FutureWarning: 'Y' is deprecated and will be removed in a future version, please use 'YE' instead.\n",
      "  dates = pd.date_range(\n",
      "08:56:54 - cmdstanpy - INFO - Chain [1] start processing\n",
      "08:56:54 - cmdstanpy - INFO - Chain [1] done processing\n",
      "/Users/yingzhou/anaconda3/envs/timeseries3/lib/python3.12/site-packages/prophet/forecaster.py:1854: FutureWarning: 'Y' is deprecated and will be removed in a future version, please use 'YE' instead.\n",
      "  dates = pd.date_range(\n",
      "08:56:54 - cmdstanpy - INFO - Chain [1] start processing\n",
      "08:56:54 - cmdstanpy - INFO - Chain [1] done processing\n"
     ]
    },
    {
     "name": "stdout",
     "output_type": "stream",
     "text": [
      "Forecasting error for Noah: No forecast available for the year 2023.\n",
      "Forecasting error for Oliver: No forecast available for the year 2023.\n",
      "Forecasting error for James: No forecast available for the year 2023.\n",
      "Forecasting error for Elijah: No forecast available for the year 2023.\n"
     ]
    },
    {
     "name": "stderr",
     "output_type": "stream",
     "text": [
      "/Users/yingzhou/anaconda3/envs/timeseries3/lib/python3.12/site-packages/prophet/forecaster.py:1854: FutureWarning: 'Y' is deprecated and will be removed in a future version, please use 'YE' instead.\n",
      "  dates = pd.date_range(\n",
      "08:56:54 - cmdstanpy - INFO - Chain [1] start processing\n",
      "08:56:54 - cmdstanpy - INFO - Chain [1] done processing\n",
      "/Users/yingzhou/anaconda3/envs/timeseries3/lib/python3.12/site-packages/prophet/forecaster.py:1854: FutureWarning: 'Y' is deprecated and will be removed in a future version, please use 'YE' instead.\n",
      "  dates = pd.date_range(\n",
      "08:56:54 - cmdstanpy - INFO - Chain [1] start processing\n",
      "08:56:54 - cmdstanpy - INFO - Chain [1] done processing\n",
      "/Users/yingzhou/anaconda3/envs/timeseries3/lib/python3.12/site-packages/prophet/forecaster.py:1854: FutureWarning: 'Y' is deprecated and will be removed in a future version, please use 'YE' instead.\n",
      "  dates = pd.date_range(\n",
      "08:56:54 - cmdstanpy - INFO - Chain [1] start processing\n",
      "08:56:54 - cmdstanpy - INFO - Chain [1] done processing\n",
      "/Users/yingzhou/anaconda3/envs/timeseries3/lib/python3.12/site-packages/prophet/forecaster.py:1854: FutureWarning: 'Y' is deprecated and will be removed in a future version, please use 'YE' instead.\n",
      "  dates = pd.date_range(\n",
      "08:56:55 - cmdstanpy - INFO - Chain [1] start processing\n",
      "08:56:55 - cmdstanpy - INFO - Chain [1] done processing\n"
     ]
    },
    {
     "name": "stdout",
     "output_type": "stream",
     "text": [
      "Forecasting error for William: No forecast available for the year 2023.\n",
      "Forecasting error for Henry: No forecast available for the year 2023.\n",
      "Forecasting error for Lucas: No forecast available for the year 2023.\n",
      "Forecasting error for Benjamin: No forecast available for the year 2023.\n"
     ]
    },
    {
     "name": "stderr",
     "output_type": "stream",
     "text": [
      "/Users/yingzhou/anaconda3/envs/timeseries3/lib/python3.12/site-packages/prophet/forecaster.py:1854: FutureWarning: 'Y' is deprecated and will be removed in a future version, please use 'YE' instead.\n",
      "  dates = pd.date_range(\n",
      "08:56:55 - cmdstanpy - INFO - Chain [1] start processing\n",
      "08:56:55 - cmdstanpy - INFO - Chain [1] done processing\n",
      "/Users/yingzhou/anaconda3/envs/timeseries3/lib/python3.12/site-packages/prophet/forecaster.py:1854: FutureWarning: 'Y' is deprecated and will be removed in a future version, please use 'YE' instead.\n",
      "  dates = pd.date_range(\n",
      "08:56:55 - cmdstanpy - INFO - Chain [1] start processing\n",
      "08:56:55 - cmdstanpy - INFO - Chain [1] done processing\n",
      "/Users/yingzhou/anaconda3/envs/timeseries3/lib/python3.12/site-packages/prophet/forecaster.py:1854: FutureWarning: 'Y' is deprecated and will be removed in a future version, please use 'YE' instead.\n",
      "  dates = pd.date_range(\n",
      "08:56:55 - cmdstanpy - INFO - Chain [1] start processing\n",
      "08:56:55 - cmdstanpy - INFO - Chain [1] done processing\n",
      "/Users/yingzhou/anaconda3/envs/timeseries3/lib/python3.12/site-packages/prophet/forecaster.py:1854: FutureWarning: 'Y' is deprecated and will be removed in a future version, please use 'YE' instead.\n",
      "  dates = pd.date_range(\n",
      "08:56:55 - cmdstanpy - INFO - Chain [1] start processing\n",
      "08:56:55 - cmdstanpy - INFO - Chain [1] done processing\n",
      "/Users/yingzhou/anaconda3/envs/timeseries3/lib/python3.12/site-packages/prophet/forecaster.py:1854: FutureWarning: 'Y' is deprecated and will be removed in a future version, please use 'YE' instead.\n",
      "  dates = pd.date_range(\n",
      "08:56:55 - cmdstanpy - INFO - Chain [1] start processing\n"
     ]
    },
    {
     "name": "stdout",
     "output_type": "stream",
     "text": [
      "Forecasting error for Theodore: No forecast available for the year 2023.\n",
      "Forecasting error for Mateo: No forecast available for the year 2023.\n",
      "Forecasting error for Levi: No forecast available for the year 2023.\n",
      "Forecasting error for Sebastian: No forecast available for the year 2023.\n",
      "Forecasting error for Daniel: No forecast available for the year 2023.\n"
     ]
    },
    {
     "name": "stderr",
     "output_type": "stream",
     "text": [
      "08:56:55 - cmdstanpy - INFO - Chain [1] done processing\n",
      "/Users/yingzhou/anaconda3/envs/timeseries3/lib/python3.12/site-packages/prophet/forecaster.py:1854: FutureWarning: 'Y' is deprecated and will be removed in a future version, please use 'YE' instead.\n",
      "  dates = pd.date_range(\n",
      "08:56:55 - cmdstanpy - INFO - Chain [1] start processing\n",
      "08:56:55 - cmdstanpy - INFO - Chain [1] done processing\n",
      "/Users/yingzhou/anaconda3/envs/timeseries3/lib/python3.12/site-packages/prophet/forecaster.py:1854: FutureWarning: 'Y' is deprecated and will be removed in a future version, please use 'YE' instead.\n",
      "  dates = pd.date_range(\n",
      "08:56:55 - cmdstanpy - INFO - Chain [1] start processing\n",
      "08:56:55 - cmdstanpy - INFO - Chain [1] done processing\n",
      "/Users/yingzhou/anaconda3/envs/timeseries3/lib/python3.12/site-packages/prophet/forecaster.py:1854: FutureWarning: 'Y' is deprecated and will be removed in a future version, please use 'YE' instead.\n",
      "  dates = pd.date_range(\n",
      "08:56:55 - cmdstanpy - INFO - Chain [1] start processing\n",
      "08:56:55 - cmdstanpy - INFO - Chain [1] done processing\n",
      "/Users/yingzhou/anaconda3/envs/timeseries3/lib/python3.12/site-packages/prophet/forecaster.py:1854: FutureWarning: 'Y' is deprecated and will be removed in a future version, please use 'YE' instead.\n",
      "  dates = pd.date_range(\n",
      "08:56:55 - cmdstanpy - INFO - Chain [1] start processing\n",
      "08:56:55 - cmdstanpy - INFO - Chain [1] done processing\n"
     ]
    },
    {
     "name": "stdout",
     "output_type": "stream",
     "text": [
      "Forecasting error for Jack: No forecast available for the year 2023.\n",
      "Forecasting error for Michael: No forecast available for the year 2023.\n",
      "Forecasting error for Alexander: No forecast available for the year 2023.\n",
      "Forecasting error for Owen: No forecast available for the year 2023.\n"
     ]
    },
    {
     "name": "stderr",
     "output_type": "stream",
     "text": [
      "/Users/yingzhou/anaconda3/envs/timeseries3/lib/python3.12/site-packages/prophet/forecaster.py:1854: FutureWarning: 'Y' is deprecated and will be removed in a future version, please use 'YE' instead.\n",
      "  dates = pd.date_range(\n",
      "08:56:55 - cmdstanpy - INFO - Chain [1] start processing\n",
      "08:56:55 - cmdstanpy - INFO - Chain [1] done processing\n",
      "/Users/yingzhou/anaconda3/envs/timeseries3/lib/python3.12/site-packages/prophet/forecaster.py:1854: FutureWarning: 'Y' is deprecated and will be removed in a future version, please use 'YE' instead.\n",
      "  dates = pd.date_range(\n",
      "08:56:55 - cmdstanpy - INFO - Chain [1] start processing\n",
      "08:56:55 - cmdstanpy - INFO - Chain [1] done processing\n",
      "/Users/yingzhou/anaconda3/envs/timeseries3/lib/python3.12/site-packages/prophet/forecaster.py:1854: FutureWarning: 'Y' is deprecated and will be removed in a future version, please use 'YE' instead.\n",
      "  dates = pd.date_range(\n",
      "08:56:55 - cmdstanpy - INFO - Chain [1] start processing\n",
      "08:56:55 - cmdstanpy - INFO - Chain [1] done processing\n",
      "/Users/yingzhou/anaconda3/envs/timeseries3/lib/python3.12/site-packages/prophet/forecaster.py:1854: FutureWarning: 'Y' is deprecated and will be removed in a future version, please use 'YE' instead.\n",
      "  dates = pd.date_range(\n",
      "08:56:55 - cmdstanpy - INFO - Chain [1] start processing\n",
      "08:56:55 - cmdstanpy - INFO - Chain [1] done processing\n",
      "/Users/yingzhou/anaconda3/envs/timeseries3/lib/python3.12/site-packages/prophet/forecaster.py:1854: FutureWarning: 'Y' is deprecated and will be removed in a future version, please use 'YE' instead.\n",
      "  dates = pd.date_range(\n",
      "08:56:55 - cmdstanpy - INFO - Chain [1] start processing\n"
     ]
    },
    {
     "name": "stdout",
     "output_type": "stream",
     "text": [
      "Forecasting error for Samuel: No forecast available for the year 2023.\n",
      "Forecasting error for Asher: No forecast available for the year 2023.\n",
      "Forecasting error for Ethan: No forecast available for the year 2023.\n",
      "Forecasting error for Leo: No forecast available for the year 2023.\n",
      "Forecasting error for Jackson: No forecast available for the year 2023.\n"
     ]
    },
    {
     "name": "stderr",
     "output_type": "stream",
     "text": [
      "08:56:55 - cmdstanpy - INFO - Chain [1] done processing\n",
      "/Users/yingzhou/anaconda3/envs/timeseries3/lib/python3.12/site-packages/prophet/forecaster.py:1854: FutureWarning: 'Y' is deprecated and will be removed in a future version, please use 'YE' instead.\n",
      "  dates = pd.date_range(\n",
      "08:56:55 - cmdstanpy - INFO - Chain [1] start processing\n",
      "08:56:55 - cmdstanpy - INFO - Chain [1] done processing\n",
      "/Users/yingzhou/anaconda3/envs/timeseries3/lib/python3.12/site-packages/prophet/forecaster.py:1854: FutureWarning: 'Y' is deprecated and will be removed in a future version, please use 'YE' instead.\n",
      "  dates = pd.date_range(\n",
      "08:56:55 - cmdstanpy - INFO - Chain [1] start processing\n",
      "08:56:55 - cmdstanpy - INFO - Chain [1] done processing\n",
      "/Users/yingzhou/anaconda3/envs/timeseries3/lib/python3.12/site-packages/prophet/forecaster.py:1854: FutureWarning: 'Y' is deprecated and will be removed in a future version, please use 'YE' instead.\n",
      "  dates = pd.date_range(\n",
      "08:56:55 - cmdstanpy - INFO - Chain [1] start processing\n",
      "08:56:55 - cmdstanpy - INFO - Chain [1] done processing\n",
      "/Users/yingzhou/anaconda3/envs/timeseries3/lib/python3.12/site-packages/prophet/forecaster.py:1854: FutureWarning: 'Y' is deprecated and will be removed in a future version, please use 'YE' instead.\n",
      "  dates = pd.date_range(\n",
      "08:56:55 - cmdstanpy - INFO - Chain [1] start processing\n"
     ]
    },
    {
     "name": "stdout",
     "output_type": "stream",
     "text": [
      "Forecasting error for Mason: No forecast available for the year 2023.\n",
      "Forecasting error for Ezra: No forecast available for the year 2023.\n",
      "Forecasting error for John: No forecast available for the year 2023.\n",
      "Forecasting error for Hudson: No forecast available for the year 2023.\n"
     ]
    },
    {
     "name": "stderr",
     "output_type": "stream",
     "text": [
      "08:56:56 - cmdstanpy - INFO - Chain [1] done processing\n",
      "/Users/yingzhou/anaconda3/envs/timeseries3/lib/python3.12/site-packages/prophet/forecaster.py:1854: FutureWarning: 'Y' is deprecated and will be removed in a future version, please use 'YE' instead.\n",
      "  dates = pd.date_range(\n",
      "08:56:56 - cmdstanpy - INFO - Chain [1] start processing\n",
      "08:56:56 - cmdstanpy - INFO - Chain [1] done processing\n",
      "/Users/yingzhou/anaconda3/envs/timeseries3/lib/python3.12/site-packages/prophet/forecaster.py:1854: FutureWarning: 'Y' is deprecated and will be removed in a future version, please use 'YE' instead.\n",
      "  dates = pd.date_range(\n",
      "08:56:56 - cmdstanpy - INFO - Chain [1] start processing\n",
      "08:56:56 - cmdstanpy - INFO - Chain [1] done processing\n",
      "/Users/yingzhou/anaconda3/envs/timeseries3/lib/python3.12/site-packages/prophet/forecaster.py:1854: FutureWarning: 'Y' is deprecated and will be removed in a future version, please use 'YE' instead.\n",
      "  dates = pd.date_range(\n",
      "08:56:56 - cmdstanpy - INFO - Chain [1] start processing\n",
      "08:56:56 - cmdstanpy - INFO - Chain [1] done processing\n"
     ]
    },
    {
     "name": "stdout",
     "output_type": "stream",
     "text": [
      "Forecasting error for Luca: No forecast available for the year 2023.\n",
      "Forecasting error for Aiden: No forecast available for the year 2023.\n",
      "Forecasting error for Joseph: No forecast available for the year 2023.\n"
     ]
    },
    {
     "name": "stderr",
     "output_type": "stream",
     "text": [
      "/Users/yingzhou/anaconda3/envs/timeseries3/lib/python3.12/site-packages/prophet/forecaster.py:1854: FutureWarning: 'Y' is deprecated and will be removed in a future version, please use 'YE' instead.\n",
      "  dates = pd.date_range(\n",
      "08:56:56 - cmdstanpy - INFO - Chain [1] start processing\n",
      "08:56:56 - cmdstanpy - INFO - Chain [1] done processing\n",
      "/Users/yingzhou/anaconda3/envs/timeseries3/lib/python3.12/site-packages/prophet/forecaster.py:1854: FutureWarning: 'Y' is deprecated and will be removed in a future version, please use 'YE' instead.\n",
      "  dates = pd.date_range(\n",
      "08:56:56 - cmdstanpy - INFO - Chain [1] start processing\n",
      "08:56:56 - cmdstanpy - INFO - Chain [1] done processing\n",
      "/Users/yingzhou/anaconda3/envs/timeseries3/lib/python3.12/site-packages/prophet/forecaster.py:1854: FutureWarning: 'Y' is deprecated and will be removed in a future version, please use 'YE' instead.\n",
      "  dates = pd.date_range(\n",
      "08:56:56 - cmdstanpy - INFO - Chain [1] start processing\n",
      "08:56:56 - cmdstanpy - INFO - Chain [1] done processing\n",
      "/Users/yingzhou/anaconda3/envs/timeseries3/lib/python3.12/site-packages/prophet/forecaster.py:1854: FutureWarning: 'Y' is deprecated and will be removed in a future version, please use 'YE' instead.\n",
      "  dates = pd.date_range(\n",
      "08:56:56 - cmdstanpy - INFO - Chain [1] start processing\n",
      "08:56:56 - cmdstanpy - INFO - Chain [1] done processing\n",
      "/Users/yingzhou/anaconda3/envs/timeseries3/lib/python3.12/site-packages/prophet/forecaster.py:1854: FutureWarning: 'Y' is deprecated and will be removed in a future version, please use 'YE' instead.\n",
      "  dates = pd.date_range(\n"
     ]
    },
    {
     "name": "stdout",
     "output_type": "stream",
     "text": [
      "Forecasting error for David: No forecast available for the year 2023.\n",
      "Forecasting error for Jacob: No forecast available for the year 2023.\n",
      "Forecasting error for Logan: No forecast available for the year 2023.\n",
      "Forecasting error for Luke: No forecast available for the year 2023.\n",
      "Forecasting error for Julian: No forecast available for the year 2023.\n"
     ]
    },
    {
     "name": "stderr",
     "output_type": "stream",
     "text": [
      "08:56:56 - cmdstanpy - INFO - Chain [1] start processing\n",
      "08:56:56 - cmdstanpy - INFO - Chain [1] done processing\n",
      "/Users/yingzhou/anaconda3/envs/timeseries3/lib/python3.12/site-packages/prophet/forecaster.py:1854: FutureWarning: 'Y' is deprecated and will be removed in a future version, please use 'YE' instead.\n",
      "  dates = pd.date_range(\n",
      "08:56:56 - cmdstanpy - INFO - Chain [1] start processing\n",
      "08:56:56 - cmdstanpy - INFO - Chain [1] done processing\n",
      "/Users/yingzhou/anaconda3/envs/timeseries3/lib/python3.12/site-packages/prophet/forecaster.py:1854: FutureWarning: 'Y' is deprecated and will be removed in a future version, please use 'YE' instead.\n",
      "  dates = pd.date_range(\n",
      "08:56:56 - cmdstanpy - INFO - Chain [1] start processing\n",
      "08:56:56 - cmdstanpy - INFO - Chain [1] done processing\n",
      "/Users/yingzhou/anaconda3/envs/timeseries3/lib/python3.12/site-packages/prophet/forecaster.py:1854: FutureWarning: 'Y' is deprecated and will be removed in a future version, please use 'YE' instead.\n",
      "  dates = pd.date_range(\n",
      "08:56:56 - cmdstanpy - INFO - Chain [1] start processing\n",
      "08:56:56 - cmdstanpy - INFO - Chain [1] done processing\n",
      "/Users/yingzhou/anaconda3/envs/timeseries3/lib/python3.12/site-packages/prophet/forecaster.py:1854: FutureWarning: 'Y' is deprecated and will be removed in a future version, please use 'YE' instead.\n",
      "  dates = pd.date_range(\n",
      "08:56:56 - cmdstanpy - INFO - Chain [1] start processing\n"
     ]
    },
    {
     "name": "stdout",
     "output_type": "stream",
     "text": [
      "Forecasting error for Gabriel: No forecast available for the year 2023.\n",
      "Forecasting error for Grayson: No forecast available for the year 2023.\n",
      "Forecasting error for Wyatt: No forecast available for the year 2023.\n",
      "Forecasting error for Matthew: No forecast available for the year 2023.\n"
     ]
    },
    {
     "name": "stderr",
     "output_type": "stream",
     "text": [
      "08:56:56 - cmdstanpy - INFO - Chain [1] done processing\n",
      "/Users/yingzhou/anaconda3/envs/timeseries3/lib/python3.12/site-packages/prophet/forecaster.py:1854: FutureWarning: 'Y' is deprecated and will be removed in a future version, please use 'YE' instead.\n",
      "  dates = pd.date_range(\n",
      "08:56:56 - cmdstanpy - INFO - Chain [1] start processing\n",
      "08:56:56 - cmdstanpy - INFO - Chain [1] done processing\n",
      "/Users/yingzhou/anaconda3/envs/timeseries3/lib/python3.12/site-packages/prophet/forecaster.py:1854: FutureWarning: 'Y' is deprecated and will be removed in a future version, please use 'YE' instead.\n",
      "  dates = pd.date_range(\n",
      "08:56:56 - cmdstanpy - INFO - Chain [1] start processing\n",
      "08:56:56 - cmdstanpy - INFO - Chain [1] done processing\n",
      "/Users/yingzhou/anaconda3/envs/timeseries3/lib/python3.12/site-packages/prophet/forecaster.py:1854: FutureWarning: 'Y' is deprecated and will be removed in a future version, please use 'YE' instead.\n",
      "  dates = pd.date_range(\n",
      "08:56:56 - cmdstanpy - INFO - Chain [1] start processing\n",
      "08:56:56 - cmdstanpy - INFO - Chain [1] done processing\n",
      "/Users/yingzhou/anaconda3/envs/timeseries3/lib/python3.12/site-packages/prophet/forecaster.py:1854: FutureWarning: 'Y' is deprecated and will be removed in a future version, please use 'YE' instead.\n",
      "  dates = pd.date_range(\n",
      "08:56:56 - cmdstanpy - INFO - Chain [1] start processing\n",
      "08:56:56 - cmdstanpy - INFO - Chain [1] done processing\n",
      "/Users/yingzhou/anaconda3/envs/timeseries3/lib/python3.12/site-packages/prophet/forecaster.py:1854: FutureWarning: 'Y' is deprecated and will be removed in a future version, please use 'YE' instead.\n",
      "  dates = pd.date_range(\n"
     ]
    },
    {
     "name": "stdout",
     "output_type": "stream",
     "text": [
      "Forecasting error for Maverick: No forecast available for the year 2023.\n",
      "Forecasting error for Isaac: No forecast available for the year 2023.\n",
      "Forecasting error for Dylan: No forecast available for the year 2023.\n",
      "Forecasting error for Elias: No forecast available for the year 2023.\n",
      "Forecasting error for Anthony: No forecast available for the year 2023.\n"
     ]
    },
    {
     "name": "stderr",
     "output_type": "stream",
     "text": [
      "08:56:57 - cmdstanpy - INFO - Chain [1] start processing\n",
      "08:56:57 - cmdstanpy - INFO - Chain [1] done processing\n",
      "/Users/yingzhou/anaconda3/envs/timeseries3/lib/python3.12/site-packages/prophet/forecaster.py:1854: FutureWarning: 'Y' is deprecated and will be removed in a future version, please use 'YE' instead.\n",
      "  dates = pd.date_range(\n",
      "08:56:57 - cmdstanpy - INFO - Chain [1] start processing\n",
      "08:56:57 - cmdstanpy - INFO - Chain [1] done processing\n",
      "/Users/yingzhou/anaconda3/envs/timeseries3/lib/python3.12/site-packages/prophet/forecaster.py:1854: FutureWarning: 'Y' is deprecated and will be removed in a future version, please use 'YE' instead.\n",
      "  dates = pd.date_range(\n",
      "08:56:57 - cmdstanpy - INFO - Chain [1] start processing\n",
      "08:56:57 - cmdstanpy - INFO - Chain [1] done processing\n",
      "/Users/yingzhou/anaconda3/envs/timeseries3/lib/python3.12/site-packages/prophet/forecaster.py:1854: FutureWarning: 'Y' is deprecated and will be removed in a future version, please use 'YE' instead.\n",
      "  dates = pd.date_range(\n",
      "08:56:57 - cmdstanpy - INFO - Chain [1] start processing\n",
      "08:56:57 - cmdstanpy - INFO - Chain [1] done processing\n"
     ]
    },
    {
     "name": "stdout",
     "output_type": "stream",
     "text": [
      "Forecasting error for Thomas: No forecast available for the year 2023.\n",
      "Forecasting error for Jayden: No forecast available for the year 2023.\n",
      "Forecasting error for Carter: No forecast available for the year 2023.\n"
     ]
    },
    {
     "name": "stderr",
     "output_type": "stream",
     "text": [
      "/Users/yingzhou/anaconda3/envs/timeseries3/lib/python3.12/site-packages/prophet/forecaster.py:1854: FutureWarning: 'Y' is deprecated and will be removed in a future version, please use 'YE' instead.\n",
      "  dates = pd.date_range(\n",
      "08:56:57 - cmdstanpy - INFO - Chain [1] start processing\n",
      "08:56:57 - cmdstanpy - INFO - Chain [1] done processing\n",
      "/Users/yingzhou/anaconda3/envs/timeseries3/lib/python3.12/site-packages/prophet/forecaster.py:1854: FutureWarning: 'Y' is deprecated and will be removed in a future version, please use 'YE' instead.\n",
      "  dates = pd.date_range(\n",
      "08:56:57 - cmdstanpy - INFO - Chain [1] start processing\n",
      "08:56:57 - cmdstanpy - INFO - Chain [1] done processing\n",
      "/Users/yingzhou/anaconda3/envs/timeseries3/lib/python3.12/site-packages/prophet/forecaster.py:1854: FutureWarning: 'Y' is deprecated and will be removed in a future version, please use 'YE' instead.\n",
      "  dates = pd.date_range(\n",
      "08:56:57 - cmdstanpy - INFO - Chain [1] start processing\n",
      "08:56:57 - cmdstanpy - INFO - Chain [1] done processing\n",
      "/Users/yingzhou/anaconda3/envs/timeseries3/lib/python3.12/site-packages/prophet/forecaster.py:1854: FutureWarning: 'Y' is deprecated and will be removed in a future version, please use 'YE' instead.\n",
      "  dates = pd.date_range(\n",
      "08:56:57 - cmdstanpy - INFO - Chain [1] start processing\n",
      "08:56:57 - cmdstanpy - INFO - Chain [1] done processing\n",
      "/Users/yingzhou/anaconda3/envs/timeseries3/lib/python3.12/site-packages/prophet/forecaster.py:1854: FutureWarning: 'Y' is deprecated and will be removed in a future version, please use 'YE' instead.\n",
      "  dates = pd.date_range(\n",
      "08:56:57 - cmdstanpy - INFO - Chain [1] start processing\n"
     ]
    },
    {
     "name": "stdout",
     "output_type": "stream",
     "text": [
      "Forecasting error for Santiago: No forecast available for the year 2023.\n",
      "Forecasting error for Ezekiel: No forecast available for the year 2023.\n",
      "Forecasting error for Charles: No forecast available for the year 2023.\n",
      "Forecasting error for Josiah: No forecast available for the year 2023.\n",
      "Forecasting error for Caleb: No forecast available for the year 2023.\n"
     ]
    },
    {
     "name": "stderr",
     "output_type": "stream",
     "text": [
      "08:56:57 - cmdstanpy - INFO - Chain [1] done processing\n",
      "/Users/yingzhou/anaconda3/envs/timeseries3/lib/python3.12/site-packages/prophet/forecaster.py:1854: FutureWarning: 'Y' is deprecated and will be removed in a future version, please use 'YE' instead.\n",
      "  dates = pd.date_range(\n",
      "08:56:57 - cmdstanpy - INFO - Chain [1] start processing\n",
      "08:56:57 - cmdstanpy - INFO - Chain [1] done processing\n",
      "/Users/yingzhou/anaconda3/envs/timeseries3/lib/python3.12/site-packages/prophet/forecaster.py:1854: FutureWarning: 'Y' is deprecated and will be removed in a future version, please use 'YE' instead.\n",
      "  dates = pd.date_range(\n",
      "08:56:57 - cmdstanpy - INFO - Chain [1] start processing\n",
      "08:56:57 - cmdstanpy - INFO - Chain [1] done processing\n",
      "/Users/yingzhou/anaconda3/envs/timeseries3/lib/python3.12/site-packages/prophet/forecaster.py:1854: FutureWarning: 'Y' is deprecated and will be removed in a future version, please use 'YE' instead.\n",
      "  dates = pd.date_range(\n",
      "08:56:57 - cmdstanpy - INFO - Chain [1] start processing\n",
      "08:56:57 - cmdstanpy - INFO - Chain [1] done processing\n",
      "/Users/yingzhou/anaconda3/envs/timeseries3/lib/python3.12/site-packages/prophet/forecaster.py:1854: FutureWarning: 'Y' is deprecated and will be removed in a future version, please use 'YE' instead.\n",
      "  dates = pd.date_range(\n",
      "08:56:57 - cmdstanpy - INFO - Chain [1] start processing\n",
      "08:56:57 - cmdstanpy - INFO - Chain [1] done processing\n",
      "/Users/yingzhou/anaconda3/envs/timeseries3/lib/python3.12/site-packages/prophet/forecaster.py:1854: FutureWarning: 'Y' is deprecated and will be removed in a future version, please use 'YE' instead.\n",
      "  dates = pd.date_range(\n",
      "08:56:57 - cmdstanpy - INFO - Chain [1] start processing\n"
     ]
    },
    {
     "name": "stdout",
     "output_type": "stream",
     "text": [
      "Forecasting error for Cooper: No forecast available for the year 2023.\n",
      "Forecasting error for Lincoln: No forecast available for the year 2023.\n",
      "Forecasting error for Christopher: No forecast available for the year 2023.\n",
      "Forecasting error for Miles: No forecast available for the year 2023.\n",
      "Forecasting error for Nathan: No forecast available for the year 2023.\n"
     ]
    },
    {
     "name": "stderr",
     "output_type": "stream",
     "text": [
      "08:56:57 - cmdstanpy - INFO - Chain [1] done processing\n",
      "/Users/yingzhou/anaconda3/envs/timeseries3/lib/python3.12/site-packages/prophet/forecaster.py:1854: FutureWarning: 'Y' is deprecated and will be removed in a future version, please use 'YE' instead.\n",
      "  dates = pd.date_range(\n",
      "08:56:57 - cmdstanpy - INFO - Chain [1] start processing\n",
      "08:56:57 - cmdstanpy - INFO - Chain [1] done processing\n",
      "/Users/yingzhou/anaconda3/envs/timeseries3/lib/python3.12/site-packages/prophet/forecaster.py:1854: FutureWarning: 'Y' is deprecated and will be removed in a future version, please use 'YE' instead.\n",
      "  dates = pd.date_range(\n",
      "08:56:57 - cmdstanpy - INFO - Chain [1] start processing\n",
      "08:56:57 - cmdstanpy - INFO - Chain [1] done processing\n",
      "/Users/yingzhou/anaconda3/envs/timeseries3/lib/python3.12/site-packages/prophet/forecaster.py:1854: FutureWarning: 'Y' is deprecated and will be removed in a future version, please use 'YE' instead.\n",
      "  dates = pd.date_range(\n",
      "08:56:57 - cmdstanpy - INFO - Chain [1] start processing\n",
      "08:56:57 - cmdstanpy - INFO - Chain [1] done processing\n",
      "/Users/yingzhou/anaconda3/envs/timeseries3/lib/python3.12/site-packages/prophet/forecaster.py:1854: FutureWarning: 'Y' is deprecated and will be removed in a future version, please use 'YE' instead.\n",
      "  dates = pd.date_range(\n",
      "08:56:57 - cmdstanpy - INFO - Chain [1] start processing\n",
      "08:56:57 - cmdstanpy - INFO - Chain [1] done processing\n",
      "/Users/yingzhou/anaconda3/envs/timeseries3/lib/python3.12/site-packages/prophet/forecaster.py:1854: FutureWarning: 'Y' is deprecated and will be removed in a future version, please use 'YE' instead.\n",
      "  dates = pd.date_range(\n",
      "08:56:57 - cmdstanpy - INFO - Chain [1] start processing\n"
     ]
    },
    {
     "name": "stdout",
     "output_type": "stream",
     "text": [
      "Forecasting error for Isaiah: No forecast available for the year 2023.\n",
      "Forecasting error for Kai: No forecast available for the year 2023.\n",
      "Forecasting error for Joshua: No forecast available for the year 2023.\n",
      "Forecasting error for Andrew: No forecast available for the year 2023.\n",
      "Forecasting error for Angel: No forecast available for the year 2023.\n"
     ]
    },
    {
     "name": "stderr",
     "output_type": "stream",
     "text": [
      "08:56:57 - cmdstanpy - INFO - Chain [1] done processing\n",
      "/Users/yingzhou/anaconda3/envs/timeseries3/lib/python3.12/site-packages/prophet/forecaster.py:1854: FutureWarning: 'Y' is deprecated and will be removed in a future version, please use 'YE' instead.\n",
      "  dates = pd.date_range(\n",
      "08:56:57 - cmdstanpy - INFO - Chain [1] start processing\n",
      "08:56:58 - cmdstanpy - INFO - Chain [1] done processing\n",
      "/Users/yingzhou/anaconda3/envs/timeseries3/lib/python3.12/site-packages/prophet/forecaster.py:1854: FutureWarning: 'Y' is deprecated and will be removed in a future version, please use 'YE' instead.\n",
      "  dates = pd.date_range(\n",
      "08:56:58 - cmdstanpy - INFO - Chain [1] start processing\n",
      "08:56:58 - cmdstanpy - INFO - Chain [1] done processing\n",
      "/Users/yingzhou/anaconda3/envs/timeseries3/lib/python3.12/site-packages/prophet/forecaster.py:1854: FutureWarning: 'Y' is deprecated and will be removed in a future version, please use 'YE' instead.\n",
      "  dates = pd.date_range(\n",
      "08:56:58 - cmdstanpy - INFO - Chain [1] start processing\n",
      "08:56:58 - cmdstanpy - INFO - Chain [1] done processing\n",
      "/Users/yingzhou/anaconda3/envs/timeseries3/lib/python3.12/site-packages/prophet/forecaster.py:1854: FutureWarning: 'Y' is deprecated and will be removed in a future version, please use 'YE' instead.\n",
      "  dates = pd.date_range(\n",
      "08:56:58 - cmdstanpy - INFO - Chain [1] start processing\n"
     ]
    },
    {
     "name": "stdout",
     "output_type": "stream",
     "text": [
      "Forecasting error for Adrian: No forecast available for the year 2023.\n",
      "Forecasting error for Cameron: No forecast available for the year 2023.\n",
      "Forecasting error for Nolan: No forecast available for the year 2023.\n",
      "Forecasting error for Waylon: No forecast available for the year 2023.\n"
     ]
    },
    {
     "name": "stderr",
     "output_type": "stream",
     "text": [
      "08:56:58 - cmdstanpy - INFO - Chain [1] done processing\n",
      "/Users/yingzhou/anaconda3/envs/timeseries3/lib/python3.12/site-packages/prophet/forecaster.py:1854: FutureWarning: 'Y' is deprecated and will be removed in a future version, please use 'YE' instead.\n",
      "  dates = pd.date_range(\n",
      "08:56:58 - cmdstanpy - INFO - Chain [1] start processing\n",
      "08:56:58 - cmdstanpy - INFO - Chain [1] done processing\n",
      "/Users/yingzhou/anaconda3/envs/timeseries3/lib/python3.12/site-packages/prophet/forecaster.py:1854: FutureWarning: 'Y' is deprecated and will be removed in a future version, please use 'YE' instead.\n",
      "  dates = pd.date_range(\n",
      "08:56:58 - cmdstanpy - INFO - Chain [1] start processing\n",
      "08:56:58 - cmdstanpy - INFO - Chain [1] done processing\n",
      "/Users/yingzhou/anaconda3/envs/timeseries3/lib/python3.12/site-packages/prophet/forecaster.py:1854: FutureWarning: 'Y' is deprecated and will be removed in a future version, please use 'YE' instead.\n",
      "  dates = pd.date_range(\n",
      "08:56:58 - cmdstanpy - INFO - Chain [1] start processing\n",
      "08:56:58 - cmdstanpy - INFO - Chain [1] done processing\n",
      "/Users/yingzhou/anaconda3/envs/timeseries3/lib/python3.12/site-packages/prophet/forecaster.py:1854: FutureWarning: 'Y' is deprecated and will be removed in a future version, please use 'YE' instead.\n",
      "  dates = pd.date_range(\n",
      "08:56:58 - cmdstanpy - INFO - Chain [1] start processing\n",
      "08:56:58 - cmdstanpy - INFO - Chain [1] done processing\n",
      "/Users/yingzhou/anaconda3/envs/timeseries3/lib/python3.12/site-packages/prophet/forecaster.py:1854: FutureWarning: 'Y' is deprecated and will be removed in a future version, please use 'YE' instead.\n",
      "  dates = pd.date_range(\n"
     ]
    },
    {
     "name": "stdout",
     "output_type": "stream",
     "text": [
      "Forecasting error for Jaxon: No forecast available for the year 2023.\n",
      "Forecasting error for Roman: No forecast available for the year 2023.\n",
      "Forecasting error for Eli: No forecast available for the year 2023.\n",
      "Forecasting error for Wesley: No forecast available for the year 2023.\n",
      "Forecasting error for Aaron: No forecast available for the year 2023.\n"
     ]
    },
    {
     "name": "stderr",
     "output_type": "stream",
     "text": [
      "08:56:58 - cmdstanpy - INFO - Chain [1] start processing\n",
      "08:56:58 - cmdstanpy - INFO - Chain [1] done processing\n",
      "/Users/yingzhou/anaconda3/envs/timeseries3/lib/python3.12/site-packages/prophet/forecaster.py:1854: FutureWarning: 'Y' is deprecated and will be removed in a future version, please use 'YE' instead.\n",
      "  dates = pd.date_range(\n",
      "08:56:58 - cmdstanpy - INFO - Chain [1] start processing\n",
      "08:56:58 - cmdstanpy - INFO - Chain [1] done processing\n",
      "/Users/yingzhou/anaconda3/envs/timeseries3/lib/python3.12/site-packages/prophet/forecaster.py:1854: FutureWarning: 'Y' is deprecated and will be removed in a future version, please use 'YE' instead.\n",
      "  dates = pd.date_range(\n",
      "08:56:58 - cmdstanpy - INFO - Chain [1] start processing\n",
      "08:56:58 - cmdstanpy - INFO - Chain [1] done processing\n",
      "/Users/yingzhou/anaconda3/envs/timeseries3/lib/python3.12/site-packages/prophet/forecaster.py:1854: FutureWarning: 'Y' is deprecated and will be removed in a future version, please use 'YE' instead.\n",
      "  dates = pd.date_range(\n",
      "08:56:58 - cmdstanpy - INFO - Chain [1] start processing\n",
      "08:56:58 - cmdstanpy - INFO - Chain [1] done processing\n",
      "/Users/yingzhou/anaconda3/envs/timeseries3/lib/python3.12/site-packages/prophet/forecaster.py:1854: FutureWarning: 'Y' is deprecated and will be removed in a future version, please use 'YE' instead.\n",
      "  dates = pd.date_range(\n",
      "08:56:58 - cmdstanpy - INFO - Chain [1] start processing\n",
      "08:56:58 - cmdstanpy - INFO - Chain [1] done processing\n",
      "/Users/yingzhou/anaconda3/envs/timeseries3/lib/python3.12/site-packages/prophet/forecaster.py:1854: FutureWarning: 'Y' is deprecated and will be removed in a future version, please use 'YE' instead.\n",
      "  dates = pd.date_range(\n",
      "08:56:58 - cmdstanpy - INFO - Chain [1] start processing\n"
     ]
    },
    {
     "name": "stdout",
     "output_type": "stream",
     "text": [
      "Forecasting error for Ian: No forecast available for the year 2023.\n",
      "Forecasting error for Christian: No forecast available for the year 2023.\n",
      "Forecasting error for Ryan: No forecast available for the year 2023.\n",
      "Forecasting error for Leonardo: No forecast available for the year 2023.\n",
      "Forecasting error for Brooks: No forecast available for the year 2023.\n"
     ]
    },
    {
     "name": "stderr",
     "output_type": "stream",
     "text": [
      "08:56:58 - cmdstanpy - INFO - Chain [1] done processing\n",
      "/Users/yingzhou/anaconda3/envs/timeseries3/lib/python3.12/site-packages/prophet/forecaster.py:1854: FutureWarning: 'Y' is deprecated and will be removed in a future version, please use 'YE' instead.\n",
      "  dates = pd.date_range(\n",
      "08:56:58 - cmdstanpy - INFO - Chain [1] start processing\n",
      "08:56:58 - cmdstanpy - INFO - Chain [1] done processing\n",
      "/Users/yingzhou/anaconda3/envs/timeseries3/lib/python3.12/site-packages/prophet/forecaster.py:1854: FutureWarning: 'Y' is deprecated and will be removed in a future version, please use 'YE' instead.\n",
      "  dates = pd.date_range(\n",
      "08:56:58 - cmdstanpy - INFO - Chain [1] start processing\n",
      "08:56:58 - cmdstanpy - INFO - Chain [1] done processing\n",
      "/Users/yingzhou/anaconda3/envs/timeseries3/lib/python3.12/site-packages/prophet/forecaster.py:1854: FutureWarning: 'Y' is deprecated and will be removed in a future version, please use 'YE' instead.\n",
      "  dates = pd.date_range(\n",
      "08:56:58 - cmdstanpy - INFO - Chain [1] start processing\n",
      "08:56:58 - cmdstanpy - INFO - Chain [1] done processing\n",
      "/Users/yingzhou/anaconda3/envs/timeseries3/lib/python3.12/site-packages/prophet/forecaster.py:1854: FutureWarning: 'Y' is deprecated and will be removed in a future version, please use 'YE' instead.\n",
      "  dates = pd.date_range(\n",
      "08:56:58 - cmdstanpy - INFO - Chain [1] start processing\n",
      "08:56:58 - cmdstanpy - INFO - Chain [1] done processing\n",
      "/Users/yingzhou/anaconda3/envs/timeseries3/lib/python3.12/site-packages/prophet/forecaster.py:1854: FutureWarning: 'Y' is deprecated and will be removed in a future version, please use 'YE' instead.\n",
      "  dates = pd.date_range(\n",
      "08:56:58 - cmdstanpy - INFO - Chain [1] start processing\n"
     ]
    },
    {
     "name": "stdout",
     "output_type": "stream",
     "text": [
      "Forecasting error for Axel: No forecast available for the year 2023.\n",
      "Forecasting error for Walker: No forecast available for the year 2023.\n",
      "Forecasting error for Jonathan: No forecast available for the year 2023.\n",
      "Forecasting error for Easton: No forecast available for the year 2023.\n",
      "Forecasting error for Everett: No forecast available for the year 2023.\n"
     ]
    },
    {
     "name": "stderr",
     "output_type": "stream",
     "text": [
      "08:56:58 - cmdstanpy - INFO - Chain [1] done processing\n",
      "/Users/yingzhou/anaconda3/envs/timeseries3/lib/python3.12/site-packages/prophet/forecaster.py:1854: FutureWarning: 'Y' is deprecated and will be removed in a future version, please use 'YE' instead.\n",
      "  dates = pd.date_range(\n",
      "08:56:58 - cmdstanpy - INFO - Chain [1] start processing\n",
      "08:56:58 - cmdstanpy - INFO - Chain [1] done processing\n",
      "/Users/yingzhou/anaconda3/envs/timeseries3/lib/python3.12/site-packages/prophet/forecaster.py:1854: FutureWarning: 'Y' is deprecated and will be removed in a future version, please use 'YE' instead.\n",
      "  dates = pd.date_range(\n",
      "08:56:58 - cmdstanpy - INFO - Chain [1] start processing\n",
      "08:56:58 - cmdstanpy - INFO - Chain [1] done processing\n",
      "/Users/yingzhou/anaconda3/envs/timeseries3/lib/python3.12/site-packages/prophet/forecaster.py:1854: FutureWarning: 'Y' is deprecated and will be removed in a future version, please use 'YE' instead.\n",
      "  dates = pd.date_range(\n",
      "08:56:59 - cmdstanpy - INFO - Chain [1] start processing\n",
      "08:56:59 - cmdstanpy - INFO - Chain [1] done processing\n",
      "/Users/yingzhou/anaconda3/envs/timeseries3/lib/python3.12/site-packages/prophet/forecaster.py:1854: FutureWarning: 'Y' is deprecated and will be removed in a future version, please use 'YE' instead.\n",
      "  dates = pd.date_range(\n",
      "08:56:59 - cmdstanpy - INFO - Chain [1] start processing\n",
      "08:56:59 - cmdstanpy - INFO - Chain [1] done processing\n",
      "/Users/yingzhou/anaconda3/envs/timeseries3/lib/python3.12/site-packages/prophet/forecaster.py:1854: FutureWarning: 'Y' is deprecated and will be removed in a future version, please use 'YE' instead.\n",
      "  dates = pd.date_range(\n",
      "08:56:59 - cmdstanpy - INFO - Chain [1] start processing\n"
     ]
    },
    {
     "name": "stdout",
     "output_type": "stream",
     "text": [
      "Forecasting error for Weston: No forecast available for the year 2023.\n",
      "Forecasting error for Bennett: No forecast available for the year 2023.\n",
      "Forecasting error for Robert: No forecast available for the year 2023.\n",
      "Forecasting error for Jameson: No forecast available for the year 2023.\n",
      "Forecasting error for Jose: No forecast available for the year 2023.\n"
     ]
    },
    {
     "name": "stderr",
     "output_type": "stream",
     "text": [
      "08:56:59 - cmdstanpy - INFO - Chain [1] done processing\n",
      "/Users/yingzhou/anaconda3/envs/timeseries3/lib/python3.12/site-packages/prophet/forecaster.py:1854: FutureWarning: 'Y' is deprecated and will be removed in a future version, please use 'YE' instead.\n",
      "  dates = pd.date_range(\n",
      "08:56:59 - cmdstanpy - INFO - Chain [1] start processing\n",
      "08:56:59 - cmdstanpy - INFO - Chain [1] done processing\n",
      "/Users/yingzhou/anaconda3/envs/timeseries3/lib/python3.12/site-packages/prophet/forecaster.py:1854: FutureWarning: 'Y' is deprecated and will be removed in a future version, please use 'YE' instead.\n",
      "  dates = pd.date_range(\n",
      "08:56:59 - cmdstanpy - INFO - Chain [1] start processing\n",
      "08:56:59 - cmdstanpy - INFO - Chain [1] done processing\n",
      "/Users/yingzhou/anaconda3/envs/timeseries3/lib/python3.12/site-packages/prophet/forecaster.py:1854: FutureWarning: 'Y' is deprecated and will be removed in a future version, please use 'YE' instead.\n",
      "  dates = pd.date_range(\n",
      "08:56:59 - cmdstanpy - INFO - Chain [1] start processing\n",
      "08:56:59 - cmdstanpy - INFO - Chain [1] done processing\n",
      "/Users/yingzhou/anaconda3/envs/timeseries3/lib/python3.12/site-packages/prophet/forecaster.py:1854: FutureWarning: 'Y' is deprecated and will be removed in a future version, please use 'YE' instead.\n",
      "  dates = pd.date_range(\n",
      "08:56:59 - cmdstanpy - INFO - Chain [1] start processing\n",
      "08:56:59 - cmdstanpy - INFO - Chain [1] done processing\n",
      "/Users/yingzhou/anaconda3/envs/timeseries3/lib/python3.12/site-packages/prophet/forecaster.py:1854: FutureWarning: 'Y' is deprecated and will be removed in a future version, please use 'YE' instead.\n",
      "  dates = pd.date_range(\n",
      "08:56:59 - cmdstanpy - INFO - Chain [1] start processing\n",
      "08:56:59 - cmdstanpy - INFO - Chain [1] done processing\n"
     ]
    },
    {
     "name": "stdout",
     "output_type": "stream",
     "text": [
      "Forecasting error for Landon: No forecast available for the year 2023.\n",
      "Forecasting error for Silas: No forecast available for the year 2023.\n",
      "Forecasting error for Micah: No forecast available for the year 2023.\n",
      "Forecasting error for Beau: No forecast available for the year 2023.\n",
      "Forecasting error for Colton: No forecast available for the year 2023.\n"
     ]
    },
    {
     "name": "stderr",
     "output_type": "stream",
     "text": [
      "/Users/yingzhou/anaconda3/envs/timeseries3/lib/python3.12/site-packages/prophet/forecaster.py:1854: FutureWarning: 'Y' is deprecated and will be removed in a future version, please use 'YE' instead.\n",
      "  dates = pd.date_range(\n",
      "08:56:59 - cmdstanpy - INFO - Chain [1] start processing\n",
      "08:56:59 - cmdstanpy - INFO - Chain [1] done processing\n",
      "/Users/yingzhou/anaconda3/envs/timeseries3/lib/python3.12/site-packages/prophet/forecaster.py:1854: FutureWarning: 'Y' is deprecated and will be removed in a future version, please use 'YE' instead.\n",
      "  dates = pd.date_range(\n",
      "08:56:59 - cmdstanpy - INFO - Chain [1] start processing\n",
      "08:56:59 - cmdstanpy - INFO - Chain [1] done processing\n",
      "/Users/yingzhou/anaconda3/envs/timeseries3/lib/python3.12/site-packages/prophet/forecaster.py:1854: FutureWarning: 'Y' is deprecated and will be removed in a future version, please use 'YE' instead.\n",
      "  dates = pd.date_range(\n",
      "08:56:59 - cmdstanpy - INFO - Chain [1] start processing\n",
      "08:56:59 - cmdstanpy - INFO - Chain [1] done processing\n"
     ]
    },
    {
     "name": "stdout",
     "output_type": "stream",
     "text": [
      "Forecasting error for Jordan: No forecast available for the year 2023.\n",
      "Forecasting error for Jeremiah: No forecast available for the year 2023.\n",
      "Forecasting error for Parker: No forecast available for the year 2023.\n"
     ]
    },
    {
     "name": "stderr",
     "output_type": "stream",
     "text": [
      "/Users/yingzhou/anaconda3/envs/timeseries3/lib/python3.12/site-packages/prophet/forecaster.py:1854: FutureWarning: 'Y' is deprecated and will be removed in a future version, please use 'YE' instead.\n",
      "  dates = pd.date_range(\n",
      "08:56:59 - cmdstanpy - INFO - Chain [1] start processing\n",
      "08:56:59 - cmdstanpy - INFO - Chain [1] done processing\n",
      "/Users/yingzhou/anaconda3/envs/timeseries3/lib/python3.12/site-packages/prophet/forecaster.py:1854: FutureWarning: 'Y' is deprecated and will be removed in a future version, please use 'YE' instead.\n",
      "  dates = pd.date_range(\n",
      "08:56:59 - cmdstanpy - INFO - Chain [1] start processing\n",
      "08:56:59 - cmdstanpy - INFO - Chain [1] done processing\n",
      "/Users/yingzhou/anaconda3/envs/timeseries3/lib/python3.12/site-packages/prophet/forecaster.py:1854: FutureWarning: 'Y' is deprecated and will be removed in a future version, please use 'YE' instead.\n",
      "  dates = pd.date_range(\n",
      "08:56:59 - cmdstanpy - INFO - Chain [1] start processing\n",
      "08:56:59 - cmdstanpy - INFO - Chain [1] done processing\n",
      "/Users/yingzhou/anaconda3/envs/timeseries3/lib/python3.12/site-packages/prophet/forecaster.py:1854: FutureWarning: 'Y' is deprecated and will be removed in a future version, please use 'YE' instead.\n",
      "  dates = pd.date_range(\n",
      "08:56:59 - cmdstanpy - INFO - Chain [1] start processing\n",
      "08:56:59 - cmdstanpy - INFO - Chain [1] done processing\n",
      "/Users/yingzhou/anaconda3/envs/timeseries3/lib/python3.12/site-packages/prophet/forecaster.py:1854: FutureWarning: 'Y' is deprecated and will be removed in a future version, please use 'YE' instead.\n",
      "  dates = pd.date_range(\n",
      "08:56:59 - cmdstanpy - INFO - Chain [1] start processing\n"
     ]
    },
    {
     "name": "stdout",
     "output_type": "stream",
     "text": [
      "Forecasting error for Greyson: No forecast available for the year 2023.\n",
      "Forecasting error for Rowan: No forecast available for the year 2023.\n",
      "Forecasting error for Nicholas: No forecast available for the year 2023.\n",
      "Forecasting error for Adam: No forecast available for the year 2023.\n",
      "Forecasting error for Theo: No forecast available for the year 2023.\n"
     ]
    },
    {
     "name": "stderr",
     "output_type": "stream",
     "text": [
      "08:56:59 - cmdstanpy - INFO - Chain [1] done processing\n",
      "/Users/yingzhou/anaconda3/envs/timeseries3/lib/python3.12/site-packages/prophet/forecaster.py:1854: FutureWarning: 'Y' is deprecated and will be removed in a future version, please use 'YE' instead.\n",
      "  dates = pd.date_range(\n"
     ]
    },
    {
     "name": "stdout",
     "output_type": "stream",
     "text": [
      "Forecasting error for Xavier: No forecast available for the year 2023.\n"
     ]
    }
   ],
   "source": [
    "def forecast_with_prophet(df_prophet):\n",
    "    \"\"\"Forecast using Prophet\"\"\"\n",
    "    # Validate input DataFrame\n",
    "    if df_prophet.empty:\n",
    "        raise ValueError(\"Input DataFrame is empty.\")\n",
    "    \n",
    "    model = Prophet()\n",
    "    model.fit(df_prophet)\n",
    "    \n",
    "    # Make a future dataframe for 2023\n",
    "    future = model.make_future_dataframe(periods=1, freq='Y')\n",
    "    \n",
    "    # Validate future DataFrame\n",
    "    if future.empty:\n",
    "        raise ValueError(\"Future DataFrame is empty.\")\n",
    "    \n",
    "    forecast = model.predict(future)\n",
    "    \n",
    "    # Validate forecast DataFrame\n",
    "    if forecast.empty or 'yhat' not in forecast.columns:\n",
    "        raise ValueError(\"Forecast DataFrame is missing 'yhat' column.\")\n",
    "    \n",
    "    # Extract the prediction for 2023\n",
    "    forecast_2023 = forecast[forecast['ds'].dt.year == 2023]\n",
    "    if forecast_2023.empty:\n",
    "        raise ValueError(\"No forecast available for the year 2023.\")\n",
    "    \n",
    "    prediction_2023 = forecast_2023['yhat'].values[0]\n",
    "    \n",
    "    return prediction_2023\n",
    "\n",
    "# Validate forecasting for female names\n",
    "for name, data in top_female_prophet_data.items():\n",
    "    try:\n",
    "        prediction = forecast_with_prophet(data)\n",
    "        print(f\"Forecast for {name} successfully completed.\")\n",
    "    except ValueError as e:\n",
    "        print(f\"Forecasting error for {name}: {e}\")\n",
    "\n",
    "# Validate forecasting for male names\n",
    "for name, data in top_male_prophet_data.items():\n",
    "    try:\n",
    "        prediction = forecast_with_prophet(data)\n",
    "        print(f\"Forecast for {name} successfully completed.\")\n",
    "    except ValueError as e:\n",
    "        print(f\"Forecasting error for {name}: {e}\")\n"
   ]
  },
  {
   "cell_type": "markdown",
   "metadata": {},
   "source": [
    "### Step 4: Rank Predictions"
   ]
  },
  {
   "cell_type": "code",
   "execution_count": 41,
   "metadata": {},
   "outputs": [
    {
     "name": "stdout",
     "output_type": "stream",
     "text": [
      "Ranking error: Predictions DataFrame is empty.\n",
      "Ranking error: Predictions DataFrame is empty.\n"
     ]
    }
   ],
   "source": [
    "# Function to validate ranking\n",
    "def validate_ranking(predictions_df):\n",
    "    \"\"\"Validate the ranking of predictions\"\"\"\n",
    "    if predictions_df.empty:\n",
    "        raise ValueError(\"Predictions DataFrame is empty.\")\n",
    "    \n",
    "    if not all(col in predictions_df.columns for col in ['Name', 'Predicted_Gender_Name_Ratio_2023']):\n",
    "        raise ValueError(\"Predictions DataFrame is missing required columns.\")\n",
    "    \n",
    "    if predictions_df['Predicted_Gender_Name_Ratio_2023'].isnull().any():\n",
    "        raise ValueError(\"Predicted values contain nulls.\")\n",
    "    \n",
    "    return predictions_df\n",
    "\n",
    "# Validate ranking for female predictions\n",
    "try:\n",
    "    ranked_female_predictions = validate_ranking(predictions_female_2023)\n",
    "    top_10_female_predictions_2023 = ranked_female_predictions.sort_values(by='Predicted_Gender_Name_Ratio_2023', ascending=False).head(10)\n",
    "    print(\"Top 10 Female Predictions for 2023:\")\n",
    "    print(top_10_female_predictions_2023)\n",
    "except ValueError as e:\n",
    "    print(f\"Ranking error: {e}\")\n",
    "\n",
    "# Validate ranking for male predictions\n",
    "try:\n",
    "    ranked_male_predictions = validate_ranking(predictions_male_2023)\n",
    "    top_10_male_predictions_2023 = ranked_male_predictions.sort_values(by='Predicted_Gender_Name_Ratio_2023', ascending=False).head(10)\n",
    "    print(\"Top 10 Male Predictions for 2023:\")\n",
    "    print(top_10_male_predictions_2023)\n",
    "except ValueError as e:\n",
    "    print(f\"Ranking error: {e}\")\n"
   ]
  },
  {
   "cell_type": "code",
   "execution_count": null,
   "metadata": {},
   "outputs": [],
   "source": []
  }
 ],
 "metadata": {
  "kernelspec": {
   "display_name": "timeseries3",
   "language": "python",
   "name": "timeseries3"
  },
  "language_info": {
   "codemirror_mode": {
    "name": "ipython",
    "version": 3
   },
   "file_extension": ".py",
   "mimetype": "text/x-python",
   "name": "python",
   "nbconvert_exporter": "python",
   "pygments_lexer": "ipython3",
   "version": "3.12.4"
  }
 },
 "nbformat": 4,
 "nbformat_minor": 2
}
